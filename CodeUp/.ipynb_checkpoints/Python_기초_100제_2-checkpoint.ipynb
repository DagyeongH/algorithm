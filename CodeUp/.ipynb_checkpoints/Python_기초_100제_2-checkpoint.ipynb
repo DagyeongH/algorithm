{
 "cells": [
  {
   "cell_type": "markdown",
   "id": "d42baddc",
   "metadata": {},
   "source": [
    "### 6051 : [기초-비교연산] 정수 2개 입력받아 비교하기4(설명)(py)\n",
    "본 문제는 python 의 빠른 기초 학습을 위해 설계된 문제로서 python 코드 제출을 기준으로 설명되어 있습니다. \n",
    "- - - - - -\n",
    "\n",
    "두 정수(a, b)를 입력받아 \n",
    "a의 값이 b의 값과 서로 다르면 True 를, 같으면 False 를 출력하는 프로그램을 작성해보자.  \n",
    "\n",
    "참고  \n",
    "어떤 값을 비교하기 위해 비교/관계(comparison/relational) 연산자(operator)를 사용할 수 있다.  \n",
    "\n",
    "비교/관계연산자 != 는  \n",
    "왼쪽의 계산 결과값이 오른쪽의 계산 결과값이 서로 다른 경우 True(참)로 계산하고,  \n",
    "그 외의 경우에는 False(거짓)로 계산한다.  \n",
    "\n",
    "비교/관계연산자도 일반적인 사칙연산자처럼 주어진 두 수를 이용해 계산을 수행하고,  \n",
    "그 결과를 True(참), 또는 False(거짓)로 계산해주는 연산자이다.  \n",
    "비교/관계연산자는 <, >, <=, >=, ==(같다), !=(다르다) 6개가 있다.  "
   ]
  },
  {
   "cell_type": "code",
   "execution_count": 1,
   "id": "16d57ab2",
   "metadata": {},
   "outputs": [
    {
     "name": "stdout",
     "output_type": "stream",
     "text": [
      "0 1\n",
      "True\n"
     ]
    }
   ],
   "source": [
    "a, b = map(int, input().split())\n",
    "print(True if a != b else False)"
   ]
  },
  {
   "cell_type": "markdown",
   "id": "2922b033",
   "metadata": {},
   "source": [
    "### 6052 : [기초-논리연산] 정수 입력받아 참 거짓 평가하기(설명)(py)\n",
    "본 문제는 python 의 빠른 기초 학습을 위해 설계된 문제로서 python 코드 제출을 기준으로 설명되어 있습니다. \n",
    "- - - - - -\n",
    "\n",
    "정수가 입력되었을 때, True/False 로 평가해주는 프로그램을 작성해보자. \n",
    "\n",
    "예시 \n",
    "n = int(input()) \n",
    "print(bool(n)) \n",
    "\n",
    "참고   \n",
    "bool( ) 을 이용하면 입력된 식이나 값을 평가해 불 형의 값(True 또는 False)을 출력해준다.  \n",
    "식이나 값을 계산해서 결과값이 만들어지는 것을 평가(evaluate)라고 한다.   \n",
    "\n",
    "python 언어에서 정수값 0은 False(거짓)로 평가되고, 그 외의 값들은 모두 True(참)로 평가된다.   \n",
    "** 불 대수(boolean algebra)는 수학자 불이 만들어낸 것으로 True(참)/False(거짓) 값만 가지는 논리값과 그 값들 사이의 연산을 다룬다. "
   ]
  },
  {
   "cell_type": "code",
   "execution_count": 4,
   "id": "62cbfa05",
   "metadata": {},
   "outputs": [
    {
     "name": "stdout",
     "output_type": "stream",
     "text": [
      "100\n",
      "True\n"
     ]
    }
   ],
   "source": [
    "a = int(input())\n",
    "print(bool(a))"
   ]
  },
  {
   "cell_type": "markdown",
   "id": "a2bd88de",
   "metadata": {},
   "source": [
    "### 6053 : [기초-논리연산] 참 거짓 바꾸기(설명)(py)\n",
    "본 문제는 python 의 빠른 기초 학습을 위해 설계된 문제로서 python 코드 제출을 기준으로 설명되어 있습니다. \n",
    "- - - - - -\n",
    "\n",
    "정수값이 입력될 때,   \n",
    "그 불 값을 반대로 출력하는 프로그램을 작성해보자.  \n",
    "\n",
    "예시   \n",
    "a = bool(int(input()))  \n",
    "print(not a)  \n",
    "  \n",
    "참고  \n",
    "a = bool(int(input()))   \n",
    "와 같은 형태로 겹쳐 작성하면, 한 번에 한 단계씩 계산/처리/평가된다.     \n",
    "위와 같은 명령문의 경우 input( ), int( ), bool( ) 순서로 한 번에 한 단계씩 계산/처리/평가된다.   \n",
    "  \n",
    "어떤 불 값이나 변수에 not True, not False, not a 와 같은 계산이 가능하다.   \n",
    "  \n",
    "참 또는 거짓의 논리값을 역(반대)으로 바꾸기 위해서 not 예약어(reserved word, keyword)를 사용할 수 있다.  \n",
    "  \n",
    "이러한 논리연산을 NOT 연산(boolean NOT)이라고도 부르고,   \n",
    "프라임 '(문자 오른쪽 위에 작은 따옴표), 바(기호 위에 가로 막대), 문자 오른쪽 위에 c(여집합, complement) 등으로 표시한다.   \n",
    "모두 같은 의미이다.   \n",
    "  \n",
    "참, 거짓의 논리값 인 불(boolean) 값을 다루어주는 예약어는 not, and, or 이 있고,  \n",
    "불 값들 사이의 논리(not, and, or) 연산 결과도 마찬가지로 True 또는 False 의 불 값으로 계산 된다.  \n",
    "  \n",
    "정수값 0은 False 이고, 나머지 정수 값들은 True 로 평가된다.   \n",
    "빈 문자열 \"\" 나 ''는 False 이고, 나머지 문자열들은 True 로 평가된다.   \n",
    "  \n",
    "** 불 대수(boolean algebra)는 수학자 불이 만들어낸 것으로 True(참)/False(거짓) 값만 가지는 논리값과 그 값들 사이의 연산을 다룬다.  "
   ]
  },
  {
   "cell_type": "code",
   "execution_count": 6,
   "id": "46ff311f",
   "metadata": {},
   "outputs": [
    {
     "name": "stdout",
     "output_type": "stream",
     "text": [
      "1\n",
      "False\n"
     ]
    }
   ],
   "source": [
    "a = int(input())\n",
    "print(not bool(a))"
   ]
  },
  {
   "cell_type": "markdown",
   "id": "503b315a",
   "metadata": {},
   "source": [
    "### 6054 : [기초-논리연산] 둘 다 참일 경우만 참 출력하기(설명)(py)\n",
    "\n",
    "본 문제는 python 의 빠른 기초 학습을 위해 설계된 문제로서 python 코드 제출을 기준으로 설명되어 있습니다. \n",
    "- - - - - -\n",
    "\n",
    "2개의 정수값이 입력될 때,   \n",
    "그 불 값이 모두 True 일 때에만 True 를 출력하는 프로그램을 작성해보자.   \n",
    "  \n",
    "예시  \n",
    "a, b = input().split()  \n",
    "print(bool(int(a)) and bool(int(b)))   \n",
    "  \n",
    "참고  \n",
    "and 예약어는 주어진 두 불 값이 모두 True 일 때에만 True 로 계산하고, 나머지 경우는 False 로 계산한다.  \n",
    "이러한 논리연산을 AND 연산(boolean AND)이라고도 부르고, · 으로 표시하거나 생략하며, 집합 기호 ∩(교집합, intersection)로 표시하기도 한다.    \n",
    "모두 같은 의미이다.   \n",
    "  \n",
    "참, 거짓의 논리값 인 불(boolean) 값을 다루어주는 예약어는 not, and, or 이 있고,  \n",
    "불 값들 사이의 논리(not, and, or) 연산 결과도 마찬가지로 True 또는 False 의 불 값으로 계산된다.   \n",
    "  \n",
    "** 불 대수(boolean algebra)는 수학자 불이 만들어낸 것으로 True(참)/False(거짓) 값만 가지는 논리값과 그 값들 사이의 연산을 다룬다.   "
   ]
  },
  {
   "cell_type": "code",
   "execution_count": 7,
   "id": "0d949f35",
   "metadata": {},
   "outputs": [
    {
     "name": "stdout",
     "output_type": "stream",
     "text": [
      "1 2\n",
      "True\n"
     ]
    }
   ],
   "source": [
    "a, b = map(int, input().split())\n",
    "print(bool(a) & bool(b))"
   ]
  },
  {
   "cell_type": "markdown",
   "id": "299a6db2",
   "metadata": {},
   "source": [
    "### 6055 : [기초-논리연산] 하나라도 참이면 참 출력하기(설명)(py)\n",
    "\n",
    "본 문제는 python 의 빠른 기초 학습을 위해 설계된 문제로서 python 코드 제출을 기준으로 설명되어 있습니다. \n",
    "- - - - - -\n",
    "  \n",
    "2개의 정수값이 입력될 때,   \n",
    "그 불 값이 하나라도 True 일 때에만 True 를 출력하는 프로그램을 작성해보자.  \n",
    "  \n",
    "참고  \n",
    "or 예약어는 주어진 두 불 값 중에서 하나라도 True 이면 True 로 계산하고, 나머지 경우는 False 로 계산한다.  \n",
    "이러한 논리연산을 OR 연산(boolean OR)이라고도 부르고, + 로 표시하거나, 집합 기호 ∪(합집합, union)로 표시하기도 한다.   \n",
    "모두 같은 의미이다.   \n",
    "  \n",
    "참, 거짓의 논리값 인 불(boolean) 값을 다루어주는 예약어는 not, and, or 이 있고,  \n",
    "불 값들 사이의 논리(not, and, or) 연산 결과도 마찬가지로 True 또는 False 의 불 값으로 계산된다.  \n",
    "  \n",
    "** 불 대수(boolean algebra)는 수학자 불이 만들어낸 것으로 True(참)/False(거짓) 값만 가지는 논리값과 그 값들 사이의 연산을 다룬다.   "
   ]
  },
  {
   "cell_type": "code",
   "execution_count": 8,
   "id": "6cb1a37e",
   "metadata": {},
   "outputs": [
    {
     "name": "stdout",
     "output_type": "stream",
     "text": [
      "1 0\n",
      "True\n"
     ]
    }
   ],
   "source": [
    "a, b = map(int, input().split())\n",
    "print(bool(a) or bool(b))"
   ]
  },
  {
   "cell_type": "markdown",
   "id": "f157cfc5",
   "metadata": {},
   "source": [
    "### 6056 : [기초-논리연산] 참/거짓이 서로 다를 때에만 참 출력하기(설명)(py)\n",
    "본 문제는 python 의 빠른 기초 학습을 위해 설계된 문제로서 python 코드 제출을 기준으로 설명되어 있습니다. \n",
    "- - - - - - \n",
    "  \n",
    "2개의 정수값이 입력될 때,   \n",
    "그 불 값(True/False) 이 서로 다를 때에만 True 를 출력하는 프로그램을 작성해보자.  \n",
    "  \n",
    "예시   \n",
    "...   \n",
    "c = bool(int(a))   \n",
    "d = bool(int(b))   \n",
    "print((c and (not d)) or ((not c) and d))   \n",
    "  \n",
    "참고  \n",
    "참 거짓이 서로 다를 때에만 True 로 계산하는 논리연산을 XOR(exclusive or, 배타적 논리합) 연산이라고도 부른다.   \n",
    "  \n",
    "논리연산자는 사칙(+, -, *, /) 연산자와 마찬가지로 여러 번 중복해서 사용할 수 있는데,    \n",
    "사칙 연산자와 마찬가지로 계산 순서를 표시하기 위해 괄호 ( )를 사용할 수 있다.   \n",
    "괄호를 사용하면 계산 순서를 명확하게 표현할 수 있다.   \n",
    "  \n",
    "수학 식에서는 소괄호 (), 중괄호 {}, 대괄호 []를 사용하기도 하지만, 프로그래밍언어에서는 소괄호 ( ) 만 사용한다.   \n",
    "  \n",
    "** 불 대수(boolean algebra)는 수학자 불이 만들어낸 것으로 True(참)/False(거짓) 값만 가지는 논리값과 그 값들 사이의 연산을 다룬다.   "
   ]
  },
  {
   "cell_type": "code",
   "execution_count": 19,
   "id": "1e892bfe",
   "metadata": {},
   "outputs": [
    {
     "name": "stdout",
     "output_type": "stream",
     "text": [
      "0 0\n",
      "False\n"
     ]
    }
   ],
   "source": [
    "a, b = map(int, input().split())\n",
    "c = bool(a)\n",
    "d = bool(b)\n",
    "print((c and (not d)) or ((not c) and d))"
   ]
  },
  {
   "cell_type": "markdown",
   "id": "b72ef73e",
   "metadata": {},
   "source": [
    "###  6057 : [기초-논리연산] 참/거짓이 서로 같을 때에만 참 출력하기(설명)(py)\n",
    "\n",
    "본 문제는 python 의 빠른 기초 학습을 위해 설계된 문제로서 python 코드 제출을 기준으로 설명되어 있습니다. \n",
    "- - - - - -\n",
    "  \n",
    "2개의 정수값이 입력될 때,  \n",
    "그 불 값(True/False) 이 서로 같을 때에만 True 를 출력하는 프로그램을 작성해보자. "
   ]
  },
  {
   "cell_type": "code",
   "execution_count": 23,
   "id": "49d7ff2b",
   "metadata": {},
   "outputs": [
    {
     "name": "stdout",
     "output_type": "stream",
     "text": [
      "0 1\n",
      "False\n"
     ]
    }
   ],
   "source": [
    "a, b = map(int, input().split())\n",
    "c = bool(a)\n",
    "d = bool(b)\n",
    "print(c == d)"
   ]
  },
  {
   "cell_type": "markdown",
   "id": "241a9c9b",
   "metadata": {},
   "source": [
    "### 6058 : [기초-논리연산] 둘 다 거짓일 경우만 참 출력하기(py)\n",
    "\n",
    "본 문제는 python 의 빠른 기초 학습을 위해 설계된 문제로서 python 코드 제출을 기준으로 설명되어 있습니다. \n",
    "- - - - - -\n",
    "\n",
    "2개의 정수값이 입력될 때,   \n",
    "그 불 값(True/False) 이 모두 False 일 때에만 True 를 출력하는 프로그램을 작성해보자. "
   ]
  },
  {
   "cell_type": "code",
   "execution_count": 28,
   "id": "037bba79",
   "metadata": {},
   "outputs": [
    {
     "name": "stdout",
     "output_type": "stream",
     "text": [
      "0 0\n",
      "True\n"
     ]
    }
   ],
   "source": [
    "a, b = map(int, input().split())\n",
    "print((a == False) and (b == False))"
   ]
  },
  {
   "cell_type": "markdown",
   "id": "2c4b8117",
   "metadata": {},
   "source": [
    "### 6059 : [기초-비트단위논리연산] 비트단위로 NOT 하여 출력하기(설명)(py)\n",
    "\n",
    "본 문제는 python 의 빠른 기초 학습을 위해 설계된 문제로서 python 코드 제출을 기준으로 설명되어 있습니다. \n",
    "- -- - - -\n",
    "   \n",
    "입력 된 정수를 비트단위로 참/거짓을 바꾼 후 정수로 출력해보자.    \n",
    "비트단위(bitwise)연산자 ~ 를 붙이면 된다.(~ : tilde, 틸드라고 읽는다.)   \n",
    "   \n",
    "** 비트단위(bitwise) 연산자는,   \n",
    "~(bitwise not), &(bitwise and), |(bitwise or), ^(bitwise xor),   \n",
    "<<(bitwise left shift), >>(bitwise right shift)   \n",
    "가 있다.   \n",
    "   \n",
    "예를 들어 1이 입력되었을 때 저장되는 1을 32비트 2진수로 표현하면   \n",
    "        00000000 00000000 00000000 00000001 이고,   \n",
    "~1은 11111111 11111111 11111111 11111110 가 되는데 이는 -2를 의미한다.   \n",
    "   \n",
    "예시   \n",
    "a = 1   \n",
    "print(~a) #-2가 출력된다.   \n",
    "   \n",
    "참고   \n",
    "컴퓨터에 저장되는 모든 데이터들은 2진수 형태로 바뀌어 저장된다.   \n",
    "0과 1로만 구성되는 비트단위들로 변환되어 저장되는데,   \n",
    "양의 정수는 2진수 형태로 바뀌어 저장되고, 음의 정수는 \"2의 보수 표현\"방법으로 저장된다.   \n",
    "   \n",
    "양의 정수 5를 32비트로 저장하면,     \n",
    "   \n",
    "5의 2진수 형태인 101이 32비트로 만들어져    \n",
    "00000000 00000000 00000000 00000101   \n",
    "로 저장된다.(공백은 보기 편하도록 임의로 분리)   \n",
    "   \n",
    "32비트 형의 정수 0은   \n",
    "00000000 00000000 00000000 00000000   \n",
    "   \n",
    "그리고 -1은 0에서 1을 더 빼고 32비트만 표시하는 형태로   \n",
    "11111111 11111111 11111111 11111111 로 저장된다.   \n",
    "   \n",
    "-2는 -1에서 1을 더 빼면 된다.   \n",
    "11111111 11111111 11111111 11111110 로 저장된다.   \n",
    "   \n",
    "이러한 내용을 간단히 표현하면, 정수 n이라고 할 때,   \n",
    "   \n",
    "~n = -n - 1   \n",
    "-n = ~n + 1 과 같은 관계로 표현할 수 있다.   \n",
    "   \n",
    "이 관계를 그림으로 그려보면 마치 원형으로 수들이 상대적으로 배치된 것과 같다.    "
   ]
  },
  {
   "cell_type": "code",
   "execution_count": 1,
   "id": "aa87a3a8",
   "metadata": {},
   "outputs": [
    {
     "name": "stdout",
     "output_type": "stream",
     "text": [
      "2\n",
      "-3\n"
     ]
    }
   ],
   "source": [
    "a = int(input())\n",
    "print(~a)"
   ]
  },
  {
   "cell_type": "markdown",
   "id": "025d6d7a",
   "metadata": {},
   "source": [
    "### 6060 : [기초-비트단위논리연산] 비트단위로 AND 하여 출력하기(설명)(py)\n",
    "\n",
    "본 문제는 python 의 빠른 기초 학습을 위해 설계된 문제로서 python 코드 제출을 기준으로 설명되어 있습니다. \n",
    "- - - - - -\n",
    "\n",
    "입력된 정수 두 개를 비트단위로 and 연산한 후 그 결과를 정수로 출력해보자.   \n",
    "비트단위(bitwise)연산자 &를 사용하면 된다.(and, ampersand, 앰퍼센드라고 읽는다.)  \n",
    "  \n",
    "** 비트단위(bitwise)연산자는,  \n",
    "~(bitwise not), &(bitwise and), |(bitwise or), ^(bitwise xor),  \n",
    "<<(bitwise left shift), >>(bitwise right shift)  \n",
    "가 있다.  \n",
    "  \n",
    "예를 들어 3과 5가 입력되었을 때를 살펴보면  \n",
    "3       : 00000000 00000000 00000000 00000011  \n",
    "5       : 00000000 00000000 00000000 00000101  \n",
    "3 & 5 : 00000000 00000000 00000000 00000001  \n",
    "이 된다.  \n",
    "  \n",
    "비트단위 and 연산은 두 비트열이 주어졌을 때,  \n",
    "둘 다 1인 부분의 자리만 1로 만들어주는 것과 같다.  \n",
    "  \n",
    "이 연산을 이용하면 어떤 비트열의 특정 부분만 모두 0으로도 만들 수 있는데  \n",
    "192.168.0.31   : 11000000.10101000.00000000.00011111  \n",
    "255.255.255.0 : 11111111.11111111.11111111.00000000  \n",
    "  \n",
    "두 개의 ip 주소를 & 연산하면  \n",
    "192.168.0.0 :     110000000.10101000.0000000.00000000 을 계산할 수 있다.  \n",
    "  \n",
    "실제로 이 계산은 네트워크에 연결되어 있는 두 개의 컴퓨터가 데이터를 주고받기 위해  \n",
    "같은 네트워크에 있는지 아닌지를 판단하는데 사용된다.  \n",
    "  \n",
    "이러한 비트단위 연산은 빠른 계산이 필요한 그래픽처리에서  \n",
    "마스크연산(특정 부분을 가리고 출력하는)을 수행하는 데에도 효과적으로 사용된다.   "
   ]
  },
  {
   "cell_type": "code",
   "execution_count": 2,
   "id": "11596dbe",
   "metadata": {},
   "outputs": [
    {
     "name": "stdout",
     "output_type": "stream",
     "text": [
      "3 5\n",
      "1\n"
     ]
    }
   ],
   "source": [
    "a, b = map(int, input().split())\n",
    "print(a & b)"
   ]
  },
  {
   "cell_type": "markdown",
   "id": "e2ab2451",
   "metadata": {},
   "source": [
    "### 6061 : [기초-비트단위논리연산] 비트단위로 OR 하여 출력하기(설명)(py)\n",
    "본 문제는 python 의 빠른 기초 학습을 위해 설계된 문제로서 python 코드 제출을 기준으로 설명되어 있습니다. \n",
    "- - - - - -\n",
    "  \n",
    "입력된 정수 두 개를 비트단위로 or 연산한 후 그 결과를 정수로 출력해보자.   \n",
    "비트단위(bitwise) 연산자 |(or, vertical bar, 버티컬바)를 사용하면 된다.  \n",
    "  \n",
    "** | 은 파이프(pipe)연산자라고도 불리는 경우가 있다.  \n",
    "  \n",
    "** 비트단위(bitwise) 연산자는,   \n",
    "~(bitwise not), &(bitwise and), |(bitwise or), ^(bitwise xor),  \n",
    "<<(bitwise left shift), >>(bitwise right shift)  \n",
    "가 있다.  \n",
    "  \n",
    "예를 들어 3과 5가 입력되었을 때를 살펴보면  \n",
    "3      : 00000000 00000000 00000000 00000011  \n",
    "5      : 00000000 00000000 00000000 00000101  \n",
    "3 | 5 : 00000000 00000000 00000000 00000111  \n",
    "이 된다.  \n",
    "  \n",
    "비트단위 or 연산은 둘 중 하나라도 1인 자리를 1로 만들어주는 것과 같다.  \n",
    "  \n",
    "이러한 비트단위 연산은 빠른 계산이 필요한 그래픽처리에서도 효과적으로 사용된다.   "
   ]
  },
  {
   "cell_type": "code",
   "execution_count": 4,
   "id": "64240da8",
   "metadata": {},
   "outputs": [
    {
     "name": "stdout",
     "output_type": "stream",
     "text": [
      "3 5\n",
      "7\n"
     ]
    }
   ],
   "source": [
    "a, b = map(int, input().split())\n",
    "print(a | b)"
   ]
  },
  {
   "cell_type": "markdown",
   "id": "26c01584",
   "metadata": {},
   "source": [
    "### 6062 : [기초-비트단위논리연산] 비트단위로 XOR 하여 출력하기(설명)(py)\n",
    "본 문제는 python 의 빠른 기초 학습을 위해 설계된 문제로서 python 코드 제출을 기준으로 설명되어 있습니다. \n",
    "- - - - - -\n",
    "  \n",
    "입력된 정수 두 개를 비트단위로 xor 연산한 후 그 결과를 정수로 출력해보자.   \n",
    "비트단위(bitwise) 연산자 ^(xor, circumflex/caret, 서컴플렉스/카릿)를 사용하면 된다.  \n",
    "  \n",
    "** 주의 ^은 수학식에서 거듭제곱(power)을 나타내는 기호와 모양은 같지만,  \n",
    "C언어에서는 전혀 다른 배타적 논리합(xor, 서로 다를 때 1)의 의미를 가진다.  \n",
    "  \n",
    "** 비트단위(bitwise) 연산자는,  \n",
    "~(bitwise not), &(bitwise and), |(bitwise or), ^(bitwise xor),  \n",
    "<<(bitwise left shift), >>(bitwise right shift)  \n",
    "가 있다.  \n",
    "  \n",
    "예를 들어 3과 5가 입력되었을 때를 살펴보면  \n",
    "3       : 00000000 00000000 00000000 00000011  \n",
    "5       : 00000000 00000000 00000000 00000101  \n",
    "3 ^ 5 : 00000000 00000000 00000000 00000110  \n",
    "이 된다.  \n",
    "이러한 비트단위 연산은 빠른 계산이 필요한 그래픽처리에서도 효과적으로 사용된다.  \n",
    "  \n",
    "구체적으로 설명하자면,  \n",
    "두 장의 이미지가 겹쳐졌을 때 색이 서로 다른 부분만 처리할 수 있다.  \n",
    "배경이 되는 그림과 배경 위에서 움직이는 그림이 있을 때,  \n",
    "두 그림에서 차이만 골라내 배경 위에서 움직이는 그림의 색으로 바꿔주면  \n",
    "전체 그림을 구성하는 모든 점들의 색을 다시 계산해 입히지 않고  \n",
    "보다 효과적으로 그림을 처리할 수 있게 되는 것이다.  \n",
    "비행기 슈팅게임 등을 상상해보면 된다.   "
   ]
  },
  {
   "cell_type": "code",
   "execution_count": 5,
   "id": "6c587107",
   "metadata": {},
   "outputs": [
    {
     "name": "stdout",
     "output_type": "stream",
     "text": [
      "3 5\n",
      "6\n"
     ]
    }
   ],
   "source": [
    "a, b = map(int, input().split())\n",
    "print(a ^ b)"
   ]
  },
  {
   "cell_type": "markdown",
   "id": "4e905e27",
   "metadata": {},
   "source": [
    "### 6063 : [기초-3항연산] 정수 2개 입력받아 큰 값 출력하기(설명)(py)\n",
    "\n",
    "본 문제는 python 의 빠른 기초 학습을 위해 설계된 문제로서 python 코드 제출을 기준으로 설명되어 있습니다. \n",
    "- - - - - -\n",
    "\n",
    "입력된 두 정수(a, b) 중 큰 값을 출력하는 프로그램을 작성해보자. \n",
    "단, 3항 연산을 사용한다.\n",
    "\n",
    "예시 \n",
    "a, b = input().split() \n",
    "a = int(a)  #변수 a에 저장되어있는 값을 정수로 바꾸어 다시 변수 a에 저장 \n",
    "b = int(b) \n",
    "c = (a if (a>=b) else b) \n",
    "print(int(c))\n",
    "\n",
    "참고\n",
    "3개의 요소로 이루어지는 3항 연산은 \n",
    "\"x if C else y\" 의 형태로 작성이 된다. \n",
    "- C : True 또는 False 를 평가할 조건식(conditional expression) 또는 값 \n",
    "- x : C의 평가 결과가 True 일 때 사용할 값\n",
    "- y : C의 평가 결과가 True 가 아닐 때 사용할 값\n",
    "\n",
    "조건식 또는 값이 True 이면 x 값이 사용되고, True가 아니면 y 값이 사용되도록 하는 코드이다. \n",
    "\n",
    "예를 들어\n",
    "0 if 123>456 else 1\n",
    "과 같은 표현식의 평가값은 123 > 456 의 비교연산 결과가 False 이므로 1이 된다. \n",
    "\n",
    "예시 코드에서 \n",
    "a>=b 의 결과가 True(참) 이면 (a if (a>=b) else b)의 결과는 a가 되고, \n",
    "a>=b 의 결과가 False(거짓)이면 (a if (a>=b) else b)의 결과는 b가 된다."
   ]
  },
  {
   "cell_type": "code",
   "execution_count": 6,
   "id": "1cd00a22",
   "metadata": {},
   "outputs": [
    {
     "name": "stdout",
     "output_type": "stream",
     "text": [
      "123 456\n",
      "456\n"
     ]
    }
   ],
   "source": [
    "a, b = map(int, input().split())\n",
    "print(a if a > b else b)"
   ]
  },
  {
   "cell_type": "markdown",
   "id": "bbdc74c9",
   "metadata": {},
   "source": [
    "### 6064 : [기초-3항연산] 정수 3개 입력받아 가장 작은 값 출력하기(설명)(py)\n",
    "본 문제는 python 의 빠른 기초 학습을 위해 설계된 문제로서 python 코드 제출을 기준으로 설명되어 있습니다. \n",
    "- - - - - -\n",
    "\n",
    "입력된 세 정수 a, b, c 중 가장 작은 값을 출력하는 프로그램을 작성해보자.   \n",
    "단, 3항 연산을 사용한다.   \n",
    "  \n",
    "참고  \n",
    "프로그래밍언어 소스코드 작성시 모든 요소들은  \n",
    "\"순서에 따라 한 단계씩 실행\"  \n",
    "\"미리 정해진 순서에 따라 하나씩 연산 수행\"  \n",
    "\"그 때까지 연산된 결과를 이용해 다시 순서에 따라 하나씩 연산\"  \n",
    "...  \n",
    "등의 원리가 적용된다.   \n",
    "  \n",
    "따라서 3항 연산을 중첩해(괄호로 묶는 등..) 이용하면 여러 값들을 순서대로 비교해 가장 큰/작은 값을 계산할 수 있다.  \n",
    "  \n",
    "예를 들어   \n",
    "(a if a>b else b) if ((a if a>b else b)>c) else c   \n",
    "와 같은 계산식은 a, b, c 의 값 중 가장 큰 값으로 계산된다.   \n",
    "  \n",
    "잘 이해가 되지 않는다면 어떤 순서에 따라 계산될 지 생각해보고  \n",
    "여러 가지 연산자가 동시에 사용된 식이 있을 때, 어떤 우선순위에 따라 순서대로 계산이 되는지 찾아보도록 한다.  \n",
    "“연산자 우선순위”를 검색하면 우선순위와 결합방향이 나온다.  \n",
    "예를 들어 변수에 어떤 값을 대입하는 대입(assign) 연산자 = 의 우선순위는 가장 낮고, 오른쪽에서 왼쪽의 결합방향을 가진다.  \n",
    "  \n",
    "** 3항 연산은 자주 사용되지는 않지만,   \n",
    "복잡한 계산식이나 조건 처리, 비교 구조를 간단히 표현할 수 있게 해준다.   "
   ]
  },
  {
   "cell_type": "code",
   "execution_count": 13,
   "id": "a88fa7b3",
   "metadata": {},
   "outputs": [
    {
     "name": "stdout",
     "output_type": "stream",
     "text": [
      "3 -1 5\n",
      "-1\n"
     ]
    }
   ],
   "source": [
    "a, b, c = map(int, input().split())\n",
    "print((b if a > b else a) if ((b if a > b else a) < c) else c)"
   ]
  },
  {
   "cell_type": "markdown",
   "id": "845be977",
   "metadata": {},
   "source": [
    "### 6065 : [기초-조건/선택실행구조] 정수 3개 입력받아 짝수만 출력하기(설명)(py)\n",
    "본 문제는 python 의 빠른 기초 학습을 위해 설계된 문제로서 python 코드 제출을 기준으로 설명되어 있습니다. \n",
    "- - - - - -\n",
    "\n",
    "3개의 정수(a, b, c)가 입력되었을 때, 짝수만 출력해보자.    \n",
    "   \n",
    "예시    \n",
    "a, b, c = input().split()    \n",
    "   \n",
    "a = int(a)    \n",
    "b = int(b)    \n",
    "c = int(c)    \n",
    "   \n",
    "if a%2==0 :  #논리적으로 한 단위로 처리해야하는 경우 콜론(:)을 찍고, 들여쓰기로 작성 한다.    \n",
    "  print(a)    \n",
    "   \n",
    "if b%2==0 :    \n",
    "  print(b)    \n",
    "   \n",
    "if c%2==0 :    \n",
    "  print(c)    \n",
    "   \n",
    "참고     \n",
    "if 조건식 :    \n",
    "  실행1  #조건식의 평가값이 True 인 경우 실행시킬 명령을 들여쓰기를 이용해 순서대로 작성한다.    \n",
    "  실행2   \n",
    "실행3  #들여쓰기를 하지 않은 부분은 조건식에 상관이 없음     \n",
    "   \n",
    "python 에서는 논리적 실행단위인 코드블록(code block)을 표현하기 위해 들여쓰기를 사용한다.    \n",
    "들여쓰기 방법은 탭(tab), 공백(space) 4개 등 여러 가지 방법을 사용할 수 있지만    \n",
    "한 소스코드 내에서 들여쓰기 길이와 방법은 똑같아야 한다.    \n",
    "   \n",
    "a%2==0 은 (a%2)가 먼저 계산된 후 그 결과를 정수 0과 비교한 결과값이다.    \n",
    "a를 2로 나눈 나머지가 0, 즉 짝수이면 True 가 되고, 아니면 False 로 계산된다.    \n",
    "따라서,    \n",
    "if a%2==0 : #a가 짝수라면 ...     \n",
    "와 같은 의미가 된다. 짝수가 아니라면 들여쓰기로 작성된 부분들은 실행되지 않는다.    "
   ]
  },
  {
   "cell_type": "code",
   "execution_count": 14,
   "id": "8ef25c3c",
   "metadata": {},
   "outputs": [
    {
     "name": "stdout",
     "output_type": "stream",
     "text": [
      "1 2 4\n",
      "2\n",
      "4\n"
     ]
    }
   ],
   "source": [
    "a, b, c = map(int, input().split())\n",
    "\n",
    "for val in [a, b, c]:\n",
    "    if val % 2 == 0:\n",
    "        print(val)"
   ]
  },
  {
   "cell_type": "markdown",
   "id": "d07be5c4",
   "metadata": {},
   "source": [
    "### 6066 : [기초-조건/선택실행구조] 정수 3개 입력받아 짝/홀 출력하기(설명)(py)\n",
    "\n",
    "본 문제는 python 의 빠른 기초 학습을 위해 설계된 문제로서 python 코드 제출을 기준으로 설명되어 있습니다. \n",
    "- - - - - -\n",
    "  \n",
    "3개의 정수(a, b, c)가 입력되었을 때, 짝(even)/홀(odd)을 출력해보자.   \n",
    "  \n",
    "예시  \n",
    "...   \n",
    "if a%2==0 :   \n",
    "  print(\"even\")   \n",
    "else :   \n",
    "  print(\"odd\")    \n",
    "...   \n",
    "  \n",
    "참고   \n",
    "if 조건식 :  #조건식을 평가해서...  \n",
    "  실행1      #True 인 경우 실행시킬 명령들...  \n",
    "  실행2   \n",
    "else :          \n",
    "  실행3      #False 인 경우 실행시킬 명령들...   \n",
    "  실행4   \n",
    "실행5       #조건식과 상관없는 다음 명령  \n",
    "...   \n",
    "\n",
    "else 는 if 없이 혼자 사용되지 않는다.   \n",
    "또한, else 다음에는 조건식이 없는 이유는? True(참)가 아니면 False(거짓)이기 때문에...    \n",
    "조건식의 평가 결과는 True 아니면 False 로 계산되기 때문이다.   \n",
    "\n",
    "python 에서는 들여쓰기를 기준으로 코드블록을 구분하므로, 들여쓰기를 정확하게 해주어야 한다.   \n"
   ]
  },
  {
   "cell_type": "code",
   "execution_count": 15,
   "id": "d567ff8f",
   "metadata": {},
   "outputs": [
    {
     "name": "stdout",
     "output_type": "stream",
     "text": [
      "1 2 8\n",
      "odd\n",
      "even\n",
      "even\n"
     ]
    }
   ],
   "source": [
    "a, b, c = map(int, input().split())\n",
    "\n",
    "for val in [a, b, c]:\n",
    "    if val % 2 == 0:\n",
    "        print('even')\n",
    "    else:\n",
    "        print('odd')"
   ]
  },
  {
   "cell_type": "markdown",
   "id": "1fb6197c",
   "metadata": {},
   "source": [
    "### 6067 : [기초-조건/선택실행구조] 정수 1개 입력받아 분류하기(설명)(py)\n",
    "본 문제는 python 의 빠른 기초 학습을 위해 설계된 문제로서 python 코드 제출을 기준으로 설명되어 있습니다. \n",
    "- - - - - -\n",
    "\n",
    "0이 아닌 정수 1개가 입력되었을 때, 음(-)/양(+)과 짝(even)/홀(odd)을 구분해 분류해보자.   \n",
    "음수이면서 짝수이면, A  \n",
    "음수이면서 홀수이면, B  \n",
    "양수이면서 짝수이면, C  \n",
    "양수이면서 홀수이면, D  \n",
    "를 출력한다.  \n",
    "\n",
    "예시   \n",
    "...   \n",
    "if n<0 :   \n",
    "  if n%2==0 :   \n",
    "    print('A')      #주의 : 변수 A와 문자열 'A' / \"A\" 는 의미가 완전히 다르다.   \n",
    "  else :   \n",
    "    print('B')   \n",
    "else :   \n",
    "  if n%2==0 :   \n",
    "    print('C')   \n",
    "  else :   \n",
    "    print('D')   \n",
    "...   \n",
    "\n",
    "참고   \n",
    "조건/선택 실행구조 안에 다시 조건/선택 실행구조를 \"중첩\"할 수가 있다.   \n",
    "\n",
    "또한, 중첩된 조건은  \n",
    "...   \n",
    "if (n<0) and (n%2==0) :   \n",
    "    print('A')   \n",
    "...  \n",
    "와 같이 논리연산자(not, and, or)를 이용해 합쳐 표현할 수도 있다.   \n",
    "비교연산(<, >, <=, >=, ==, !=) 의 계산 결과는 True 또는 False 의 불(boolean) 값이고,   \n",
    "불 값들 사이의 논리연산(not, and, or)의 결과도 True 또는 False 의 불 값이다.   "
   ]
  },
  {
   "cell_type": "code",
   "execution_count": 16,
   "id": "558286ad",
   "metadata": {},
   "outputs": [
    {
     "name": "stdout",
     "output_type": "stream",
     "text": [
      "-2147483648\n",
      "A\n"
     ]
    }
   ],
   "source": [
    "a = int(input())\n",
    "if a > 0:\n",
    "    if a % 2 == 0:\n",
    "        print('C')\n",
    "    else:\n",
    "        print('D')\n",
    "else:\n",
    "    if a % 2 == 0:\n",
    "        print('A')\n",
    "    else:\n",
    "        print('B')"
   ]
  },
  {
   "cell_type": "markdown",
   "id": "40916ff4",
   "metadata": {},
   "source": [
    "### 6068 : [기초-조건/선택실행구조] 점수 입력받아 평가 출력하기(설명)(py)\n",
    "\n",
    " 문제는 python 의 빠른 기초 학습을 위해 설계된 문제로서 python 코드 제출을 기준으로 설명되어 있습니다. \n",
    "- - - - - -\n",
    "\n",
    "점수(정수, 0 ~ 100)를 입력받아 평가를 출력해보자.   \n",
    "\n",
    "평가 기준  \n",
    "점수 범위 : 평가  \n",
    " 90 ~ 100 : A  \n",
    " 70 ~   89 : B  \n",
    " 40 ~   69 : C  \n",
    "   0 ~   39 : D  \n",
    "로 평가되어야 한다.  \n",
    "  \n",
    "예시   \n",
    "...   \n",
    "if n>=90 :   \n",
    "  print('A')   \n",
    "else :   \n",
    "  if n>=70 :   \n",
    "    print('B')   \n",
    "  else :   \n",
    "    if n>=40 :   \n",
    "      print('C')   \n",
    "    else :   \n",
    "      print('D')    \n",
    "...   \n",
    "  \n",
    "참고   \n",
    "여러 조건들을 순서대로 비교하면서 처리하기 위해서 조건문을 여러 번 중첩할 수 있다.  \n",
    "  \n",
    "if 조건식1 :   \n",
    "  ...   \n",
    "else :   \n",
    "  if 조건식2 :   \n",
    "    ...   \n",
    "  else :   \n",
    "    if 조건식3 :   \n",
    "      ...   \n",
    "    else :   \n",
    "      ...  \n",
    "...   \n",
    "와 같이 조건/선택 실행 구조를 겹쳐 작성하면 순서대로 조건을 검사할 수 있다.   \n",
    "어떤 조건이 참이면 그 부분의 내용을 실행하고 전체 조건/선택 구조를 빠져나가게 된다.   \n",
    "  \n",
    "if 조건식1 :   \n",
    "  ...   \n",
    "elif 조건식2 :   \n",
    "  ...   \n",
    "elif 조건식3 :   \n",
    "  ...   \n",
    "else :   \n",
    "  ...   \n",
    "도 똑같은 기능을 한다. elif는 else if 의 짧은 약어라고 생각해도 된다.   \n",
    "elif 를 사용하면 if ... else ... 구조를 겹쳐 사용할 때처럼, 여러 번 안 쪽으로 들여쓰기 하지 않아도 된다.   "
   ]
  },
  {
   "cell_type": "code",
   "execution_count": 17,
   "id": "e44134b1",
   "metadata": {},
   "outputs": [
    {
     "name": "stdout",
     "output_type": "stream",
     "text": [
      "73\n",
      "B\n"
     ]
    }
   ],
   "source": [
    "a = int(input())\n",
    "\n",
    "if a >= 90:\n",
    "    print('A')\n",
    "elif a >= 70:\n",
    "    print('B')\n",
    "elif a >= 40:\n",
    "    print('C')\n",
    "else:\n",
    "    print('D')"
   ]
  },
  {
   "cell_type": "markdown",
   "id": "4085f1d8",
   "metadata": {},
   "source": [
    "### 6069 : [기초-조건/선택실행구조] 평가 입력받아 다르게 출력하기(py)\n",
    "본 문제는 python 의 빠른 기초 학습을 위해 설계된 문제로서 python 코드 제출을 기준으로 설명되어 있습니다. \n",
    "- -  - - - -\n",
    "\n",
    "평가를 문자(A, B, C, D, ...)로 입력받아 내용을 다르게 출력해보자.   \n",
    "\n",
    "평가 내용    \n",
    "평가 : 내용    \n",
    "A : best!!!      \n",
    "B : good!!      \n",
    "C : run!      \n",
    "D : slowly~      \n",
    "나머지 문자들 : what?       "
   ]
  },
  {
   "cell_type": "code",
   "execution_count": 18,
   "id": "2cfe5f4b",
   "metadata": {},
   "outputs": [
    {
     "name": "stdout",
     "output_type": "stream",
     "text": [
      "A\n",
      "best!!!\n"
     ]
    }
   ],
   "source": [
    "s = input()\n",
    "\n",
    "if s == 'A':\n",
    "    print('best!!!')\n",
    "elif s == 'B':\n",
    "    print('good!!')\n",
    "elif s == 'C':\n",
    "    print('run!')\n",
    "elif s == 'D':\n",
    "    print('slowly~')\n",
    "else:\n",
    "    print('what?')"
   ]
  },
  {
   "cell_type": "markdown",
   "id": "07208d87",
   "metadata": {},
   "source": [
    "### 6070 : [기초-조건/선택실행구조] 월 입력받아 계절 출력하기(설명)(py)\n",
    "본 문제는 python 의 빠른 기초 학습을 위해 설계된 문제로서 python 코드 제출을 기준으로 설명되어 있습니다. \n",
    "- - - - - -\n",
    "\n",
    "월이 입력될 때 계절 이름이 출력되도록 해보자.    \n",
    "   \n",
    "월 : 계절 이름   \n",
    "12, 1, 2 : winter   \n",
    "  3, 4, 5 : spring   \n",
    "  6, 7, 8 : summer   \n",
    "  9, 10, 11 : fall    \n",
    "   \n",
    "예시    \n",
    "...    \n",
    "if n//3==1 :    \n",
    "  print(\"spring\")    \n",
    "...    \n",
    "   \n",
    "참고    \n",
    "때때로 수들의 특징을 관찰하고 이용하면 매우 간단히 해결할 수도 있다.    "
   ]
  },
  {
   "cell_type": "code",
   "execution_count": 19,
   "id": "a7b02727",
   "metadata": {},
   "outputs": [
    {
     "name": "stdout",
     "output_type": "stream",
     "text": [
      "12\n",
      "winter\n"
     ]
    }
   ],
   "source": [
    "m = int(input())\n",
    "\n",
    "if m == 12 or m == 1 or m == 2:\n",
    "    print('winter')\n",
    "elif m == 3 or m == 4 or m == 5:\n",
    "    print('spring')\n",
    "elif m == 6 or m == 7 or m == 8:\n",
    "    print('summer')\n",
    "elif m == 9 or m == 10 or m == 11:\n",
    "    print('fall')"
   ]
  },
  {
   "cell_type": "markdown",
   "id": "bad2fd8d",
   "metadata": {},
   "source": [
    "### 6071 : [기초-반복실행구조] 0 입력될 때까지 무한 출력하기(설명)(py)\n",
    "\n",
    "본 문제는 python 의 빠른 기초 학습을 위해 설계된 문제로서 python 코드 제출을 기준으로 설명되어 있습니다. \n",
    "- - - - - -\n",
    "\n",
    "임의의 정수가 줄을 바꿔 계속 입력된다.   \n",
    "-2147483648 ~ +2147483647, 단 개수는 알 수 없다.   \n",
    "  \n",
    "0이 아니면 입력된 정수를 출력하고, 0이 입력되면 출력을 중단해보자.   "
   ]
  },
  {
   "cell_type": "code",
   "execution_count": 1,
   "id": "3419f92f",
   "metadata": {},
   "outputs": [
    {
     "name": "stdout",
     "output_type": "stream",
     "text": [
      "7\n",
      "7\n",
      "4\n",
      "4\n",
      "2\n",
      "2\n",
      "3\n",
      "3\n",
      "0\n"
     ]
    }
   ],
   "source": [
    "while True:\n",
    "    a = int(input())\n",
    "    if a == 0:\n",
    "        break\n",
    "    print(a)"
   ]
  },
  {
   "cell_type": "markdown",
   "id": "fec147da",
   "metadata": {},
   "source": [
    "### 6072 : [기초-반복실행구조] 정수 1개 입력받아 카운트다운 출력하기1(설명)(py)\n",
    "\n",
    "본 문제는 python 의 빠른 기초 학습을 위해 설계된 문제로서 python 코드 제출을 기준으로 설명되어 있습니다. \n",
    "- - - -- -\n",
    "\n",
    "정수(1 ~ 100) 1개가 입력되었을 때 카운트다운을 출력해보자.    \n",
    "   \n",
    "while 조건식 :   \n",
    "  ...   \n",
    "  ...    \n",
    "반복 실행구조를 사용해 보자.    "
   ]
  },
  {
   "cell_type": "code",
   "execution_count": 1,
   "id": "8ba317ea",
   "metadata": {
    "scrolled": true
   },
   "outputs": [
    {
     "name": "stdout",
     "output_type": "stream",
     "text": [
      "5\n",
      "5\n",
      "4\n",
      "3\n",
      "2\n",
      "1\n"
     ]
    }
   ],
   "source": [
    "a = int(input())\n",
    "for num in range(a,0,-1):\n",
    "    print(num)"
   ]
  },
  {
   "cell_type": "markdown",
   "id": "f3cf3ccb",
   "metadata": {},
   "source": [
    "### 6073 : [기초-반복실행구조] 정수 1개 입력받아 카운트다운 출력하기2(py)\n",
    "본 문제는 python 의 빠른 기초 학습을 위해 설계된 문제로서 python 코드 제출을 기준으로 설명되어 있습니다. \n",
    "- - -- - -\n",
    "\n",
    "정수(1 ~ 100) 1개가 입력되었을 때 카운트다운을 출력해보자.    \n",
    "   \n",
    "while 조건식 :   \n",
    "  ...   \n",
    "  ...    \n",
    "\n",
    "반복 실행구조를 사용해 보자.    "
   ]
  },
  {
   "cell_type": "code",
   "execution_count": 2,
   "id": "8b662e31",
   "metadata": {},
   "outputs": [
    {
     "name": "stdout",
     "output_type": "stream",
     "text": [
      "5\n",
      "4\n",
      "3\n",
      "2\n",
      "1\n",
      "0\n"
     ]
    }
   ],
   "source": [
    "a = int(input())\n",
    "for num in range(a-1, -1, -1):\n",
    "    print(num)"
   ]
  },
  {
   "cell_type": "markdown",
   "id": "ff9b2d7a",
   "metadata": {},
   "source": [
    "### 6074 : [기초-반복실행구조] 문자 1개 입력받아 알파벳 출력하기(설명)(py)\n",
    "본 문제는 python 의 빠른 기초 학습을 위해 설계된 문제로서 python 코드 제출을 기준으로 설명되어 있습니다. \n",
    "- - - - - -\n",
    "\n",
    "영문 소문자(a ~ z) 1개가 입력되었을 때,  \n",
    "a부터 그 문자까지의 알파벳을 순서대로 출력해보자. "
   ]
  },
  {
   "cell_type": "code",
   "execution_count": 4,
   "id": "bd4b7808",
   "metadata": {},
   "outputs": [
    {
     "name": "stdout",
     "output_type": "stream",
     "text": [
      "f\n",
      "a\n",
      "b\n",
      "c\n",
      "d\n",
      "e\n",
      "f\n"
     ]
    }
   ],
   "source": [
    "c = input()\n",
    "for s in range(ord('a'), ord(c)+1):\n",
    "    print(chr(s))"
   ]
  },
  {
   "cell_type": "markdown",
   "id": "e0d0abba",
   "metadata": {},
   "source": [
    "### 6075 : [기초-반복실행구조] 정수 1개 입력받아 그 수까지 출력하기1(py)\n",
    "\n",
    "본 문제는 python 의 빠른 기초 학습을 위해 설계된 문제로서 python 코드 제출을 기준으로 설명되어 있습니다. \n",
    " - - - - - -\n",
    "\n",
    "정수(0 ~ 100) 1개를 입력받아 0부터 그 수까지 순서대로 출력해보자. "
   ]
  },
  {
   "cell_type": "code",
   "execution_count": 5,
   "id": "cc8249d3",
   "metadata": {
    "scrolled": true
   },
   "outputs": [
    {
     "name": "stdout",
     "output_type": "stream",
     "text": [
      "10\n",
      "0\n",
      "1\n",
      "2\n",
      "3\n",
      "4\n",
      "5\n",
      "6\n",
      "7\n",
      "8\n",
      "9\n",
      "10\n"
     ]
    }
   ],
   "source": [
    "a = int(input())\n",
    "for num in range(0, a+1):\n",
    "    print(num)"
   ]
  },
  {
   "cell_type": "markdown",
   "id": "e357a268",
   "metadata": {},
   "source": [
    "### 6076 : [기초-반복실행구조] 정수 1개 입력받아 그 수까지 출력하기2(설명)(py)\n",
    "\n",
    "본 문제는 python 의 빠른 기초 학습을 위해 설계된 문제로서 python 코드 제출을 기준으로 설명되어 있습니다. \n",
    "- - - - - -\n",
    "\n",
    "정수(0 ~ 100) 1개를 입력받아 0부터 그 수까지 순서대로 출력해보자. "
   ]
  },
  {
   "cell_type": "code",
   "execution_count": 6,
   "id": "0c3527e2",
   "metadata": {},
   "outputs": [
    {
     "name": "stdout",
     "output_type": "stream",
     "text": [
      "4\n",
      "0\n",
      "1\n",
      "2\n",
      "3\n",
      "4\n"
     ]
    }
   ],
   "source": [
    "a = int(input())\n",
    "for num in range(0, a+1):\n",
    "    print(num)"
   ]
  },
  {
   "cell_type": "markdown",
   "id": "2aafa518",
   "metadata": {},
   "source": [
    "### 6077 : [기초-종합] 짝수 합 구하기(설명)(py)\n",
    "\n",
    "본 문제는 python 의 빠른 기초 학습을 위해 설계된 문제로서 python 코드 제출을 기준으로 설명되어 있습니다. \n",
    "- - - - - -\n",
    "\n",
    "정수(1 ~ 100) 1개를 입력받아 1부터 그 수까지 짝수의 합을 구해보자. "
   ]
  },
  {
   "cell_type": "code",
   "execution_count": 7,
   "id": "a063a7fe",
   "metadata": {},
   "outputs": [
    {
     "name": "stdout",
     "output_type": "stream",
     "text": [
      "5\n",
      "6\n"
     ]
    }
   ],
   "source": [
    "a = int(input())\n",
    "sum = 0\n",
    "for i in range(a+1):\n",
    "    if i % 2 == 0:\n",
    "        sum += i \n",
    "print(sum)"
   ]
  },
  {
   "cell_type": "markdown",
   "id": "2d296505",
   "metadata": {},
   "source": [
    "### 6078 : [기초-종합] 원하는 문자가 입력될 때까지 반복 출력하기(py)\n",
    "본 문제는 python 의 빠른 기초 학습을 위해 설계된 문제로서 python 코드 제출을 기준으로 설명되어 있습니다. \n",
    "- - - - - -\n",
    "\n",
    "영문 소문자 'q'가 입력될 때까지  \n",
    "입력한 문자를 계속 출력하는 프로그램을 작성해보자. "
   ]
  },
  {
   "cell_type": "code",
   "execution_count": 9,
   "id": "2ae466b8",
   "metadata": {},
   "outputs": [
    {
     "name": "stdout",
     "output_type": "stream",
     "text": [
      "a\n",
      "a\n",
      "b\n",
      "b\n",
      "c\n",
      "c\n",
      "q\n",
      "q\n"
     ]
    }
   ],
   "source": [
    "while True:\n",
    "    s = input()\n",
    "    print(s)\n",
    "    if s == 'q':\n",
    "        break"
   ]
  },
  {
   "cell_type": "markdown",
   "id": "720433e7",
   "metadata": {},
   "source": [
    "### 6079 : [기초-종합] 언제까지 더해야 할까?(py)\n",
    "\n",
    "본 문제는 python 의 빠른 기초 학습을 위해 설계된 문제로서 python 코드 제출을 기준으로 설명되어 있습니다. \n",
    "- - - - - -\n",
    "\n",
    "1, 2, 3 ... 을 계속 더해 나갈 때,    \n",
    "그 합이 입력한 정수(0 ~ 1000)보다 같거나 작을 때까지만   \n",
    "계속 더하는 프로그램을 작성해보자.   \n",
    "   \n",
    "즉, 1부터 n까지 정수를 계속 더해 나간다고 할 때,   \n",
    "어디까지 더해야 입력한 수보다 같거나 커지는 지를 알아보고자하는 문제이다.    "
   ]
  },
  {
   "cell_type": "code",
   "execution_count": 11,
   "id": "791769f4",
   "metadata": {},
   "outputs": [
    {
     "name": "stdout",
     "output_type": "stream",
     "text": [
      "55\n",
      "10\n"
     ]
    }
   ],
   "source": [
    "a = int(input())\n",
    "sum = 0\n",
    "num = 1\n",
    "while True:\n",
    "    sum += num\n",
    "    if sum >= a:\n",
    "        break\n",
    "    num += 1\n",
    "print(num)"
   ]
  },
  {
   "cell_type": "markdown",
   "id": "d337f5bb",
   "metadata": {},
   "source": [
    "### 6080 : [기초-종합] 주사위 2개 던지기(설명)(py)\n",
    "\n",
    "본 문제는 python 의 빠른 기초 학습을 위해 설계된 문제로서 python 코드 제출을 기준으로 설명되어 있습니다. \n",
    "- - - - - -\n",
    "\n",
    "1부터 n까지, 1부터 m까지 숫자가 적힌 서로 다른 주사위 2개를 던졌을 때,   \n",
    "나올 수 있는 모든 경우를 출력해보자."
   ]
  },
  {
   "cell_type": "code",
   "execution_count": 12,
   "id": "70f375dc",
   "metadata": {},
   "outputs": [
    {
     "name": "stdout",
     "output_type": "stream",
     "text": [
      "2 3\n",
      "1 1\n",
      "1 2\n",
      "1 3\n",
      "2 1\n",
      "2 2\n",
      "2 3\n"
     ]
    }
   ],
   "source": [
    "n, m = map(int, input().split())\n",
    "for i in range(1, n+1):\n",
    "    for j in range(1, m+1):\n",
    "        print(i, j)"
   ]
  },
  {
   "cell_type": "markdown",
   "id": "c9f81755",
   "metadata": {},
   "source": [
    "### 6081 : [기초-종합] 16진수 구구단 출력하기(py)\n",
    "\n",
    "본 문제는 python 의 빠른 기초 학습을 위해 설계된 문제로서 python 코드 제출을 기준으로 설명되어 있습니다. \n",
    "- - - - - -\n",
    "\n",
    "16진수(0, 1, 2, 3, 4, 5, 6, 7, 8, 9, A, B, C, D, E, F)를 배운    \n",
    "영일이는 16진수끼리 곱하는 16진수 구구단?에 대해서 궁금해졌다.   \n",
    "   \n",
    "A, B, C, D, E, F 중 하나가 입력될 때,    \n",
    "1부터 F까지 곱한 16진수 구구단의 내용을 출력해보자.   \n",
    "(단, A ~ F 까지만 입력된다.)    "
   ]
  },
  {
   "cell_type": "code",
   "execution_count": 18,
   "id": "aa007d18",
   "metadata": {},
   "outputs": [
    {
     "name": "stdout",
     "output_type": "stream",
     "text": [
      "B\n",
      "B*1=B\n",
      "B*2=16\n",
      "B*3=21\n",
      "B*4=2C\n",
      "B*5=37\n",
      "B*6=42\n",
      "B*7=4D\n",
      "B*8=58\n",
      "B*9=63\n",
      "B*A=6E\n",
      "B*B=79\n",
      "B*C=84\n",
      "B*D=8F\n",
      "B*E=9A\n",
      "B*F=A5\n"
     ]
    }
   ],
   "source": [
    "n = int(input(), 16)\n",
    "for i in range(1, 16):\n",
    "    print('%X'%n, '*%X'%i, '=%X'%(n*i), sep='') "
   ]
  },
  {
   "cell_type": "markdown",
   "id": "0c300e94",
   "metadata": {},
   "source": [
    "### 6082 : [기초-종합] 3 6 9 게임의 왕이 되자(설명)(py)\n",
    "본 문제는 python 의 빠른 기초 학습을 위해 설계된 문제로서 python 코드 제출을 기준으로 설명되어 있습니다. \n",
    "- - - - - -\n",
    "\n",
    "친구들과 함께 3 6 9 게임을 하던 영일이는 잦은 실수 때문에 계속해서 벌칙을 받게 되었다.  \n",
    "3 6 9 게임의 왕이 되기 위한 369 마스터 프로그램을 작성해 보자. "
   ]
  },
  {
   "cell_type": "code",
   "execution_count": 25,
   "id": "72fb8b58",
   "metadata": {},
   "outputs": [
    {
     "name": "stdout",
     "output_type": "stream",
     "text": [
      "19\n",
      "1 2 X 4 5 X 7 8 X 10 11 12 X 14 15 X 17 18 X "
     ]
    }
   ],
   "source": [
    "a = int(input())\n",
    "for i in range(1, a+1):\n",
    "    if '3' in str(i) or '6' in str(i) or '9' in str(i):\n",
    "        print('X', end=' ')\n",
    "    else:\n",
    "        print(i, end=' ')"
   ]
  },
  {
   "cell_type": "markdown",
   "id": "b1a8fa53",
   "metadata": {},
   "source": [
    "### 6083 : [기초-종합] 빛 섞어 색 만들기(설명)(py)\n",
    "\n",
    "본 문제는 python 의 빠른 기초 학습을 위해 설계된 문제로서 python 코드 제출을 기준으로 설명되어 있습니다. \n",
    "- - - - - -\n",
    "\n",
    "빨강(red), 초록(green), 파랑(blue) 빛을 섞어 여러 가지 다른 색 빛을 만들어 내려고 한다.  \n",
    "  \n",
    "빨강(r), 초록(g), 파랑(b) 각 빛의 가짓수가 주어질 때,  \n",
    "주어진 rgb 빛들을 섞어 만들 수 있는 모든 경우의 조합(r g b)과 만들 수 있는 색의 가짓 수를 계산해보자.    "
   ]
  },
  {
   "cell_type": "code",
   "execution_count": 27,
   "id": "8f8f77dd",
   "metadata": {},
   "outputs": [
    {
     "name": "stdout",
     "output_type": "stream",
     "text": [
      "2 2 2\n",
      "0 0 0\n",
      "0 0 1\n",
      "0 1 0\n",
      "0 1 1\n",
      "1 0 0\n",
      "1 0 1\n",
      "1 1 0\n",
      "1 1 1\n",
      "8\n"
     ]
    }
   ],
   "source": [
    "r, g, b = map(int, input().split())\n",
    "num = 0\n",
    "for i in range(r):\n",
    "    for j in range(g):\n",
    "        for k in range(b):\n",
    "            print(i, j, k)\n",
    "            num += 1\n",
    "print(num)"
   ]
  },
  {
   "cell_type": "markdown",
   "id": "e0d320ee",
   "metadata": {},
   "source": [
    "### 6084 : [기초-종합] 소리 파일 저장용량 계산하기(py)\n",
    "\n",
    "본 문제는 python 의 빠른 기초 학습을 위해 설계된 문제로서 python 코드 제출을 기준으로 설명되어 있습니다. \n",
    " - - - - - -\n",
    "\n",
    "소리가 컴퓨터에 저장될 때에는 디지털 데이터화 되어 저장된다.    \n",
    "   \n",
    "마이크를 통해 1초에 적게는 수십 번, 많게는 수만 번 소리의 강약을 체크하고,   \n",
    "한 번씩 체크할 때 마다 그 값을 정수값으로 바꾸어 저장하는 방식으로 소리를 파일로 저장할 수 있다.   \n",
    "   \n",
    "값을 저장할 때에는 비트를 사용하는 정도에 따라 세세한 녹음 정도를 결정할 수 있고,   \n",
    "좌우(스테레오) 채널로 저장하면 2배… 5.1채널이면 6배의 저장공간이 필요하고,   \n",
    "녹음 시간이 길면 그 만큼 더 많은 저장공간이 필요하다.   \n",
    "   \n",
    "1초 동안 마이크로 소리강약을 체크하는 횟수를 h   \n",
    "(헤르쯔, Hz 는 1초에 몇 번? 체크하는가를 의미한다.)   \n",
    "   \n",
    "한 번 체크한 값을 저장할 때 사용하는 비트수를 b   \n",
    "(2비트를 사용하면 0 또는 1 두 가지, 16비트를 사용하면 65536가지..)   \n",
    "   \n",
    "좌우 등 소리를 저장할 트랙 개수인 채널 개수를 c   \n",
    "(모노는 1개, 스테레오는 2개의 트랙으로 저장함을 의미한다.)   \n",
    "   \n",
    "녹음할 시간(초) s가 주어질 때,   \n",
    "   \n",
    "필요한 저장 용량을 계산하는 프로그램을 작성해보자.   \n",
    "   \n",
    "실제로, 일반적인 CD 음질(44.1KHz, 16bit, 스테레오)로 1초 동안 저장하려면   \n",
    "44100 * 16 * 2 * 1 bit의 저장공간이 필요한데,    \n",
    "44100*16*2*1/8/1024/1024 로 계산하면 약 0.168 MB 정도가 필요하다.    \n",
    "   \n",
    "이렇게 녹음하는 방식을 PCM(Pulse Code Modulation) 방법이라고 하는데,   \n",
    "압축하지 않은 순수한(raw) 소리 데이터 파일은 대표적으로 *.wav 가 있다.   \n",
    "   \n",
    "**   \n",
    "      8 bit(비트)           = 1byte(바이트)       # 8bit=1Byte   \n",
    "1024 Byte(210 byte) = 1KB(킬로 바이트)  # 1024Byte=1KB   \n",
    "1024 KB(210 KB)      = 1MB(메가 바이트)   \n",
    "1024 MB(210 MB)     = 1GB(기가 바이트)   \n",
    "1024 GB(210 GB)      = 1TB(테라 바이트)    "
   ]
  },
  {
   "cell_type": "code",
   "execution_count": 3,
   "id": "f2ca77be",
   "metadata": {},
   "outputs": [
    {
     "name": "stdout",
     "output_type": "stream",
     "text": [
      "44100 16 2 10\n",
      "1.7 MB\n"
     ]
    }
   ],
   "source": [
    "h, b, c, s = map(int, input().split())\n",
    "\n",
    "print(round(h*b*c*s/8/1024/1024, 1), 'MB')"
   ]
  },
  {
   "cell_type": "markdown",
   "id": "f9ff7e1b",
   "metadata": {},
   "source": [
    "### 6085 : [기초-종합] 그림 파일 저장용량 계산하기(py)\n",
    "\n",
    "본 문제는 python 의 빠른 기초 학습을 위해 설계된 문제로서 python 코드 제출을 기준으로 설명되어 있습니다. \n",
    "- - - - - -\n",
    "\n",
    "이미지가 컴퓨터에 저장될 때에도 디지털 데이터화 되어 저장된다.    \n",
    "\n",
    "가장 기본적인 방법으로는 그림을 구성하는 한 점(pixel, 픽셀)의 색상을    \n",
    "빨강(r), 초록(g), 파랑(b)의 3가지의 빛의 세기 값으로 따로 변환하여 저장하는 것인데,    \n",
    "\n",
    "예를 들어 r, g, b 각 색에 대해서 8비트(0~255, 256가지 가능)씩을 사용한다고 하면,    \n",
    "\n",
    "한 점의 색상은 3가지 r, g, b의 8비트+8비트+8비트로 총 24비트로 표현해서    \n",
    "총 2^24 가지의 서로 다른 빛의 색깔을 사용할 수 있는 것이다.    \n",
    "\n",
    "그렇게 저장하는 점을 모아 하나의 큰 이미지를 저장할 수 있게 되는데,    \n",
    "1024 * 768 사이즈에 각 점에 대해 24비트로 저장하면 그 이미지를 저장하기 위한    \n",
    "저장 용량을 계산할 수 있다.    \n",
    "\n",
    "이렇게 이미지의 원래(raw) 데이터를 압축하지 않고 그대로 저장하는 대표적인 이미지 파일이    \n",
    "*.bmp 파일이며, 비트로 그림을 구성한다고 하여 비트맵 방식 또는 래스터 방식이라고 한다.    \n",
    "\n",
    "이미지의 가로 해상도 w, 세로 해상도 h, 한 픽셀을 저장하기 위한 비트 b 가 주어질 때,    \n",
    "압축하지 않고 저장하기 위해 필요한 저장 용량을 계산하는 프로그램을 작성해 보자.    \n",
    "\n",
    "예를 들어    \n",
    "일반적인 1024 * 768 사이즈(해상도)의 각점에 대해    \n",
    "24비트(rgb 각각 8비트씩 3개)로 저장하려면    \n",
    "1024 * 768 * 24 bit의 저장공간이 필요한데,    \n",
    "1024*768*24/8/1024/1024 로 계산하면 약 2.25 MB 정도가 필요하다.    \n",
    "\n",
    "실제 그런지 확인하고 싶다면, 간단한 그림 편집/수정 프로그램을 통해 확인할 수 있다.    \n",
    "\n",
    "**    \n",
    "      8 bit(비트)           = 1byte(바이트)     #       8bit=1Byte    \n",
    "1024 Byte(210 byte) = 1KB(킬로 바이트)  # 1024Byte=1KB    \n",
    "1024 KB(210 KB)      = 1MB(메가 바이트)    \n",
    "1024 MB(210 MB)     = 1GB(기가 바이트)    \n",
    "1024 GB(210 GB)      = 1TB(테라 바이트)    "
   ]
  },
  {
   "cell_type": "code",
   "execution_count": 7,
   "id": "e06aabd5",
   "metadata": {},
   "outputs": [
    {
     "name": "stdout",
     "output_type": "stream",
     "text": [
      "1024 768 24\n",
      "2.25 MB\n"
     ]
    }
   ],
   "source": [
    "w, h, b = map(int, input().split())\n",
    "print('%0.2f'%(w*h*b/8/1024/1024), 'MB')"
   ]
  },
  {
   "cell_type": "markdown",
   "id": "2ce59059",
   "metadata": {},
   "source": [
    "### 6086 : [기초-종합] 거기까지! 이제 그만~(설명)(py)\n",
    "\n",
    "본 문제는 python 의 빠른 기초 학습을 위해 설계된 문제로서 python 코드 제출을 기준으로 설명되어 있습니다. \n",
    "-----  -\n",
    "\n",
    "1, 2, 3 ... 을 순서대로 계속 더해 합을 만드는데,    \n",
    "그 합이 입력한 정수보다 작을 동안만 계속 더하는 프로그램을 작성해보자.   \n",
    "\n",
    "즉, 1부터 n까지 정수를 하나씩 더해 합을 만드는데,   \n",
    "어디까지 더해야 입력한 수보다 같거나 커지는지 알아보고자 하는 문제이다.   \n",
    "\n",
    "하지만, 이번에는 그 때 까지의 합을 출력해야 한다.   \n",
    "   \n",
    "예를 들어, 57을 입력하면   \n",
    "1+2+3+...+8+9+10=55에서 그 다음 수인 11을 더해 66이 될 때,   \n",
    "그 값 66이 출력되어야 한다.   "
   ]
  },
  {
   "cell_type": "code",
   "execution_count": 8,
   "id": "98b7e42f",
   "metadata": {},
   "outputs": [
    {
     "name": "stdout",
     "output_type": "stream",
     "text": [
      "57\n",
      "66\n"
     ]
    }
   ],
   "source": [
    "a = int(input())\n",
    "sum = 0\n",
    "num = 1\n",
    "while sum < a:\n",
    "    sum += num\n",
    "    num += 1\n",
    "print(sum)"
   ]
  },
  {
   "cell_type": "markdown",
   "id": "41553eaa",
   "metadata": {},
   "source": [
    "### 6087 : [기초-종합] 3의 배수는 통과(설명)(py)\n",
    "본 문제는 python 의 빠른 기초 학습을 위해 설계된 문제로서 python 코드 제출을 기준으로 설명되어 있습니다. \n",
    "- - - - - -\n",
    "\n",
    "1부터 입력한 정수까지 1씩 증가시켜 출력하는 프로그램을 작성하되,    \n",
    "3의 배수인 경우는 출력하지 않도록 만들어보자.   \n",
    "   \n",
    "예를 들면,   \n",
    "1 2 4 5 7 8 10 11 13 14 ...   \n",
    "와 같이 출력하는 것이다.    "
   ]
  },
  {
   "cell_type": "code",
   "execution_count": 9,
   "id": "122b5ed7",
   "metadata": {},
   "outputs": [
    {
     "name": "stdout",
     "output_type": "stream",
     "text": [
      "10\n",
      "1 2 4 5 7 8 10 "
     ]
    }
   ],
   "source": [
    "a = int(input())\n",
    "for i in range(1, a+1):\n",
    "    if i % 3 == 0:\n",
    "        continue\n",
    "    print(i, end=' ')"
   ]
  },
  {
   "cell_type": "markdown",
   "id": "4f459879",
   "metadata": {},
   "source": [
    "### 6088 : [기초-종합] 수 나열하기1(py)\n",
    "\n",
    "본 문제는 python 의 빠른 기초 학습을 위해 설계된 문제로서 python 코드 제출을 기준으로 설명되어 있습니다. \n",
    "- - - - - -\n",
    "\n",
    "어떤 규칙에 따라 수를 순서대로 나열한 것을 수열(sequences)이라고 한다.    \n",
    "\n",
    "예를 들어   \n",
    "1 4 7 10 13 16 19 22 25 ... 은   \n",
    "1부터 시작해 이전에 만든 수에 3을 더해 다음 수를 만든 수열이다.   \n",
    "이러한 것을 수학에서는 앞뒤 수들의 차이가 같다고 하여   \n",
    "\n",
    "등차(차이가 같다의 한문 말) 수열이라고 한다. (등차수열 : arithmetic progression/sequence)   \n",
    "수열을 알게 된 영일이는 갑자기 궁금해졌다.   \n",
    "\n",
    "\"그럼.... 123번째 나오는 수는 뭘까?\"   \n",
    "\n",
    "영일이는 프로그램을 만들어 더 큰 수도 자동으로 계산하고 싶어졌다.   \n",
    "\n",
    "시작 값(a), 등차(d), 몇 번째인지를 나타내는 정수(n)가 입력될 때   \n",
    "n번째 수를 출력하는 프로그램을 만들어보자.   "
   ]
  },
  {
   "cell_type": "code",
   "execution_count": 10,
   "id": "47e2e704",
   "metadata": {},
   "outputs": [
    {
     "name": "stdout",
     "output_type": "stream",
     "text": [
      "1 3 5\n",
      "13\n"
     ]
    }
   ],
   "source": [
    "a, d, n = map(int, input().split())\n",
    "print(a+d*(n-1))"
   ]
  },
  {
   "cell_type": "markdown",
   "id": "bde27156",
   "metadata": {},
   "source": [
    "### 6089 : [기초-종합] 수 나열하기2(py)\n",
    "\n",
    "본 문제는 python 의 빠른 기초 학습을 위해 설계된 문제로서 python 코드 제출을 기준으로 설명되어 있습니다. \n",
    "- - - - - -\n",
    "\n",
    "어떤 규칙에 따라 수를 순서대로 나열한 것을 수열(sequences)이라고 한다.    \n",
    "\n",
    "예를 들어   \n",
    "2 6 18 54 162 486 ... 은    \n",
    "2부터 시작해 이전에 만든 수에 3을 곱해 다음 수를 만든 수열이다.   \n",
    "\n",
    "이러한 것을 수학에서는 앞뒤 수들의 비율이 같다고 하여    \n",
    "등비(비율이 같다의 한문 말) 수열이라고 한다. (등비수열 : geometric progression/sequence)    \n",
    "\n",
    "등비 수열을 알게된 영일이는 갑자기 궁금해졌다.   \n",
    "\"그럼.... 13번째 나오는 수는 뭘까?\"   \n",
    "영일이는 프로그램을 만들어 더 큰 수도 자동으로 계산하고 싶어졌다.    \n",
    "\n",
    "시작 값(a), 등비(r), 몇 번째인지를 나타내는 정수(n)가 입력될 때   \n",
    "n번째 수를 출력하는 프로그램을 만들어보자.   "
   ]
  },
  {
   "cell_type": "code",
   "execution_count": 20,
   "id": "14df2a88",
   "metadata": {},
   "outputs": [
    {
     "name": "stdout",
     "output_type": "stream",
     "text": [
      "2 3 7\n",
      "1458\n"
     ]
    }
   ],
   "source": [
    "a, r, n = map(int, input().split())\n",
    "print(a*(r**(n-1)))"
   ]
  },
  {
   "cell_type": "markdown",
   "id": "c68a0963",
   "metadata": {},
   "source": [
    "### 6090 : [기초-종합] 수 나열하기3(py)\n",
    "\n",
    "본 문제는 python 의 빠른 기초 학습을 위해 설계된 문제로서 python 코드 제출을 기준으로 설명되어 있습니다. \n",
    "- - - - - -\n",
    "\n",
    "어떤 규칙에 따라 수를 순서대로 나열한 것을 수열(sequences)이라고 한다.    \n",
    "\n",
    "예를 들어   \n",
    "1 -1 3 -5 11 -21 43 ... 은   \n",
    "1부터 시작해 이전에 만든 수에 -2를 곱한 다음 1을 더해 다음 수를 만든 수열이다.   \n",
    "\n",
    "이런 이상한 수열을 알게 된 영일이는 또 궁금해졌다.   \n",
    "\"그럼.... 13번째 나오는 수는 뭘까?\"   \n",
    "\n",
    "영일이는 물론 수학을 아주 잘하지만 이런 문제는 본 적이 거의 없었다...    \n",
    "그래서 프로그램을 만들어 더 큰 수도 자동으로 계산하고 싶어졌다.   \n",
    "\n",
    "시작 값(a), 곱할 값(m), 더할 값(d), 몇 번째인지를 나타내는 정수(n)가 입력될 때,   \n",
    "n번째 수를 출력하는 프로그램을 만들어보자.   "
   ]
  },
  {
   "cell_type": "code",
   "execution_count": 5,
   "id": "e90c4d9f",
   "metadata": {},
   "outputs": [
    {
     "name": "stdout",
     "output_type": "stream",
     "text": [
      "1 -2 1 8\n",
      "-85\n"
     ]
    }
   ],
   "source": [
    "a, m, d, n = map(int, input().split())\n",
    "\n",
    "for _ in range(n-1):\n",
    "    a = (a * m) + d\n",
    "print(a)"
   ]
  },
  {
   "cell_type": "markdown",
   "id": "e0e4b0cb",
   "metadata": {},
   "source": [
    "### 6091 : [기초-종합] 함께 문제 푸는 날(설명)(py)\n",
    "\n",
    "본 문제는 python 의 빠른 기초 학습을 위해 설계된 문제로서 python 코드 제출을 기준으로 설명되어 있습니다. \n",
    "- - - - - -\n",
    "\n",
    "온라인 채점시스템에는 초등학생, 중고등학생, 대학생, 대학원생,     \n",
    "일반인, 군인, 프로그래머, 탑코더 등 아주 많은 사람들이 들어와 문제를 풀고 있는데,    \n",
    "    \n",
    "실시간 채점 정보는 메뉴의 채점기록(Judge Status)을 통해 살펴볼 수 있다.    \n",
    "    \n",
    "자! 여기서...잠깐..    \n",
    "같은 날 동시에 가입한 3명의 사람들이 온라인 채점시스템에 들어와 문제를 푸는 날짜가    \n",
    "매우 규칙적이라고 할 때, 다시 모두 함께 문제를 풀게 되는 그날은 언제일까?    \n",
    "    \n",
    "예를 들어 3명이 같은 날 가입/등업하고, 각각 3일마다, 7일마다, 9일마다    \n",
    "한 번씩 들어온다면, 처음 가입하고 63일 만에 다시 3명이 함께 문제를 풀게 된다.    \n",
    "    \n",
    "갑자기 힌트?    \n",
    "왠지 어려워 보이지 않는가?    \n",
    "수학에서 배운 최소공배수를 생각한 사람들도 있을 것이다. 하지만, 정보에서 배우고 경험하는    \n",
    "정보과학의 세상은 때때로 컴퓨터의 힘을 빌려 간단한 방법으로 해결할 수 있게 한다.    \n",
    "    \n",
    "아래의 코드를 읽고 이해한 후 도전해 보자.    \n",
    "day는 날 수, a/b/c는 방문 주기이다.    \n",
    "...    \n",
    "d = 1    \n",
    "while d%a!=0 or d%b!=0 or d%c!=0 :     \n",
    "  d += 1     \n",
    "print(d)     \n",
    "...     \n",
    "\n",
    "물론, 아주 많은 다양한 방법이 있을 수 있다.    \n",
    "    \n",
    "정보과학의 문제해결에 있어서 정답은?    \n",
    "하나가 아니라 주어진 시간/기억공간으로 정확한 결과를 얻을 수 있는 모든 방법이다.    \n",
    "\n",
    "따라서, 모든 문제들에는 정답이 하나뿐만이 아니다.    \n",
    "새로운, 더 빠른, 더 간단한 방법을 다양하게 생각해보고 여러가지 방법으로 도전해 볼 수 있다.     "
   ]
  },
  {
   "cell_type": "code",
   "execution_count": 7,
   "id": "18bf0e47",
   "metadata": {},
   "outputs": [
    {
     "name": "stdout",
     "output_type": "stream",
     "text": [
      "3 7 9\n",
      "63\n"
     ]
    }
   ],
   "source": [
    "a, b, c = map(int, input().split())\n",
    "num = 1\n",
    "while num % a != 0 or num % b != 0 or num % c != 0:\n",
    "    num += 1\n",
    "print(num)"
   ]
  },
  {
   "cell_type": "markdown",
   "id": "defd736a",
   "metadata": {},
   "source": [
    "### 6092 : [기초-리스트] 이상한 출석 번호 부르기1(설명)(py)\n",
    "\n",
    "본 문제는 python 의 빠른 기초 학습을 위해 설계된 문제로서 python 코드 제출을 기준으로 설명되어 있습니다. \n",
    "- - - - - -\n",
    "\n",
    "정보 선생님은 수업을 시작하기 전에 이상한 출석을 부른다.    \n",
    "\n",
    "선생님은 출석부를 보고 번호를 부르는데,   \n",
    "학생들의 얼굴과 이름을 빨리 익히기 위해 번호를 무작위(랜덤)으로 부른다.   \n",
    "\n",
    "그리고 얼굴과 이름이 잘 기억되지 않는 학생들은 번호를 여러 번 불러   \n",
    "이름과 얼굴을 빨리 익히려고 하는 것이다.   \n",
    "\n",
    "출석 번호를 n번 무작위로 불렀을 때, 각 번호(1 ~ 23)가 불린 횟수를 각각 출력해보자.    "
   ]
  },
  {
   "cell_type": "code",
   "execution_count": 13,
   "id": "bfe47d14",
   "metadata": {},
   "outputs": [
    {
     "name": "stdout",
     "output_type": "stream",
     "text": [
      "10\n",
      "10 1 3 2 2 5 6 7 4 5 9\n",
      "1 2 1 1 2 1 1 0 1 1 0 0 0 0 0 0 0 0 0 0 0 0 0\n"
     ]
    }
   ],
   "source": [
    "n = int(input())\n",
    "arr = list(map(int, input().split()))\n",
    "check_arr = [0]*24\n",
    "for val in arr:\n",
    "    check_arr[val] += 1\n",
    "print(*check_arr[1:])"
   ]
  },
  {
   "cell_type": "markdown",
   "id": "75508968",
   "metadata": {},
   "source": [
    "### 6093 : [기초-리스트] 이상한 출석 번호 부르기2(py)\n",
    "\n",
    "본 문제는 python 의 빠른 기초 학습을 위해 설계된 문제로서 python 코드 제출을 기준으로 설명되어 있습니다. \n",
    "- - - - - -\n",
    "\n",
    "정보 선생님은 수업을 시작하기 전에 이상한 출석을 부른다.    \n",
    "\n",
    "학생들의 얼굴과 이름을 빨리 익히기 위해 번호를 무작위(랜덤)으로 부르는데,   \n",
    "영일이는 선생님이 부른 번호들을 기억하고 있다가 거꾸로 불러보는 것을 해보고 싶어졌다.   \n",
    "\n",
    "출석 번호를 n번 무작위로 불렀을 때, 부른 번호를 거꾸로 출력해 보자.   "
   ]
  },
  {
   "cell_type": "code",
   "execution_count": 18,
   "id": "e38f8a57",
   "metadata": {},
   "outputs": [
    {
     "name": "stdout",
     "output_type": "stream",
     "text": [
      "10\n",
      "10 4 2 3 6 6 7 9 8 5\n",
      "5 8 9 7 6 6 3 2 4 10 "
     ]
    }
   ],
   "source": [
    "n = int(input())\n",
    "arr = list(map(int, input().split()))\n",
    "for val in arr[-1:-len(arr)-1:-1]:\n",
    "    print(val, end=' ')"
   ]
  },
  {
   "cell_type": "markdown",
   "id": "1a100572",
   "metadata": {},
   "source": [
    "### 6094 : [기초-리스트] 이상한 출석 번호 부르기3(py)\n",
    "\n",
    "본 문제는 python 의 빠른 기초 학습을 위해 설계된 문제로서 python 코드 제출을 기준으로 설명되어 있습니다. \n",
    "- - - - - -\n",
    "\n",
    "정보 선생님은 오늘도 이상한 출석을 부른다.    \n",
    "\n",
    "영일이는 오늘도 다른 생각을 해보았다.   \n",
    "출석 번호를 다 부르지는 않은 것 같은데... 가장 빠른 번호가 뭐였지?   \n",
    "\n",
    "출석 번호를 n번 무작위로 불렀을 때, 가장 빠른 번호를 출력해 보자.   \n",
    "\n",
    "단,     \n",
    "첫 번째 번호와 마지막 번호가 몇 번인지는 아무도 모른다.    \n",
    "음수(-) 번호, 0번 번호도 있을 수 있다.    "
   ]
  },
  {
   "cell_type": "code",
   "execution_count": 19,
   "id": "ff58756d",
   "metadata": {},
   "outputs": [
    {
     "name": "stdout",
     "output_type": "stream",
     "text": [
      "10\n",
      "10 4 2 3 6 6 7 9 8 5\n",
      "2\n"
     ]
    }
   ],
   "source": [
    "n = int(input())\n",
    "arr = list(map(int, input().split()))\n",
    "print(min(arr))"
   ]
  },
  {
   "cell_type": "markdown",
   "id": "d3739478",
   "metadata": {},
   "source": [
    "### 6095 : [기초-리스트] 바둑판에 흰 돌 놓기(설명)(py)\n",
    "\n",
    "본 문제는 python 의 빠른 기초 학습을 위해 설계된 문제로서 python 코드 제출을 기준으로 설명되어 있습니다. \n",
    "- - - - - -\n",
    "\n",
    "기숙사 생활을 하는 학교에서 어떤 금요일(전원 귀가일)에는 모두 집으로 귀가를 한다.   \n",
    "\n",
    "오랜만에 집에 간 영일이는 아버지와 함께 두던 매우 큰 오목에 대해서 생각해 보다가  \n",
    "\"바둑판에 돌을 올린 것을 프로그래밍 할 수 있을까?\"하고 생각하였다.  \n",
    "  \n",
    "바둑판(19 * 19)에 n개의 흰 돌을 놓는다고 할 때,  \n",
    "n개의 흰 돌이 놓인 위치를 출력하는 프로그램을 작성해보자.  "
   ]
  },
  {
   "cell_type": "code",
   "execution_count": 25,
   "id": "8fc562a6",
   "metadata": {},
   "outputs": [
    {
     "name": "stdout",
     "output_type": "stream",
     "text": [
      "3\n",
      "1 1\n",
      "2 2\n",
      "3 3\n",
      "1 0 0 0 0 0 0 0 0 0 0 0 0 0 0 0 0 0 0\n",
      "0 1 0 0 0 0 0 0 0 0 0 0 0 0 0 0 0 0 0\n",
      "0 0 1 0 0 0 0 0 0 0 0 0 0 0 0 0 0 0 0\n",
      "0 0 0 0 0 0 0 0 0 0 0 0 0 0 0 0 0 0 0\n",
      "0 0 0 0 0 0 0 0 0 0 0 0 0 0 0 0 0 0 0\n",
      "0 0 0 0 0 0 0 0 0 0 0 0 0 0 0 0 0 0 0\n",
      "0 0 0 0 0 0 0 0 0 0 0 0 0 0 0 0 0 0 0\n",
      "0 0 0 0 0 0 0 0 0 0 0 0 0 0 0 0 0 0 0\n",
      "0 0 0 0 0 0 0 0 0 0 0 0 0 0 0 0 0 0 0\n",
      "0 0 0 0 0 0 0 0 0 0 0 0 0 0 0 0 0 0 0\n",
      "0 0 0 0 0 0 0 0 0 0 0 0 0 0 0 0 0 0 0\n",
      "0 0 0 0 0 0 0 0 0 0 0 0 0 0 0 0 0 0 0\n",
      "0 0 0 0 0 0 0 0 0 0 0 0 0 0 0 0 0 0 0\n",
      "0 0 0 0 0 0 0 0 0 0 0 0 0 0 0 0 0 0 0\n",
      "0 0 0 0 0 0 0 0 0 0 0 0 0 0 0 0 0 0 0\n",
      "0 0 0 0 0 0 0 0 0 0 0 0 0 0 0 0 0 0 0\n",
      "0 0 0 0 0 0 0 0 0 0 0 0 0 0 0 0 0 0 0\n",
      "0 0 0 0 0 0 0 0 0 0 0 0 0 0 0 0 0 0 0\n",
      "0 0 0 0 0 0 0 0 0 0 0 0 0 0 0 0 0 0 0\n"
     ]
    }
   ],
   "source": [
    "n = int(input())\n",
    "badook = [[0 for _ in range(19)] for _ in range(19)]\n",
    "for _ in range(n):\n",
    "    a, b = map(int, input().split())\n",
    "    badook[a-1][b-1] = 1\n",
    "    \n",
    "for val in badook:\n",
    "    print(*val)"
   ]
  },
  {
   "cell_type": "markdown",
   "id": "61a7af1b",
   "metadata": {},
   "source": [
    "### 6096 : [기초-리스트] 바둑알 십자 뒤집기(py)\n",
    "\n",
    "본 문제는 python 의 빠른 기초 학습을 위해 설계된 문제로서 python 코드 제출을 기준으로 설명되어 있습니다. \n",
    "- - - - - -\n",
    "\n",
    "부모님을 기다리던 영일이는 검정/흰 색 바둑알을 바둑판에 꽉 채워 깔아 놓고 놀다가...   \n",
    "\n",
    "\"십(+)자 뒤집기를 해볼까?\"하고 생각했다.   \n",
    "\n",
    "십자 뒤집기는   \n",
    "그 위치에 있는 모든 가로줄 돌의 색을 반대(1->0, 0->1)로 바꾼 후,    \n",
    "다시 그 위치에 있는 모든 세로줄 돌의 색을 반대로 바꾸는 것이다.   \n",
    "어떤 위치를 골라 집자 뒤집기를 하면, 그 위치를 제외한 가로줄과 세로줄의 색이 모두 반대로 바뀐다.   \n",
    "\n",
    "바둑판(19 * 19)에 흰 돌(1) 또는 검정 돌(0)이 모두 꽉 채워져 놓여있을 때,  \n",
    "n개의 좌표를 입력받아 십(+)자 뒤집기한 결과를 출력하는 프로그램을 작성해보자.  "
   ]
  },
  {
   "cell_type": "code",
   "execution_count": 37,
   "id": "1edbd0da",
   "metadata": {
    "collapsed": true
   },
   "outputs": [
    {
     "name": "stdout",
     "output_type": "stream",
     "text": [
      "1\n",
      "1\n",
      "1\n",
      "1\n",
      "1\n",
      "1\n",
      "1\n",
      "1\n",
      "1\n",
      "11\n",
      "1\n",
      "1\n",
      "1\n",
      "1\n",
      "1\n",
      "1\n",
      "1\n",
      "1\n",
      "1\n",
      "1\n",
      "1\n"
     ]
    },
    {
     "ename": "ValueError",
     "evalue": "not enough values to unpack (expected 2, got 1)",
     "output_type": "error",
     "traceback": [
      "\u001b[0;31m---------------------------------------------------------------------------\u001b[0m",
      "\u001b[0;31mValueError\u001b[0m                                Traceback (most recent call last)",
      "Input \u001b[0;32mIn [37]\u001b[0m, in \u001b[0;36m<cell line: 14>\u001b[0;34m()\u001b[0m\n\u001b[1;32m     12\u001b[0m n \u001b[38;5;241m=\u001b[39m \u001b[38;5;28mint\u001b[39m(\u001b[38;5;28minput\u001b[39m())\n\u001b[1;32m     14\u001b[0m \u001b[38;5;28;01mfor\u001b[39;00m i \u001b[38;5;129;01min\u001b[39;00m \u001b[38;5;28mrange\u001b[39m(n):\n\u001b[0;32m---> 15\u001b[0m     x, y \u001b[38;5;241m=\u001b[39m \u001b[38;5;28mmap\u001b[39m(\u001b[38;5;28mint\u001b[39m, \u001b[38;5;28minput\u001b[39m()\u001b[38;5;241m.\u001b[39msplit())\n\u001b[1;32m     17\u001b[0m     \u001b[38;5;28;01mfor\u001b[39;00m j \u001b[38;5;129;01min\u001b[39;00m \u001b[38;5;28mrange\u001b[39m(\u001b[38;5;241m19\u001b[39m):\n\u001b[1;32m     18\u001b[0m         \u001b[38;5;28;01mif\u001b[39;00m location[x\u001b[38;5;241m-\u001b[39m\u001b[38;5;241m1\u001b[39m][j] \u001b[38;5;241m==\u001b[39m \u001b[38;5;241m0\u001b[39m:\n",
      "\u001b[0;31mValueError\u001b[0m: not enough values to unpack (expected 2, got 1)"
     ]
    }
   ],
   "source": [
    "location = []\n",
    "\n",
    "for i in range(19):\n",
    "    location.append([])\n",
    "\n",
    "    for j in range(19):\n",
    "        location[i].append(0)\n",
    "\n",
    "for i in range(19):\n",
    "    location[i] = list(map(int, input().split()))\n",
    "\n",
    "n = int(input())\n",
    "\n",
    "for i in range(n):\n",
    "    x, y = map(int, input().split())\n",
    "\n",
    "    for j in range(19):\n",
    "        if location[x-1][j] == 0:\n",
    "            location[x-1][j] = 1\n",
    "        else:\n",
    "            location[x-1][j] = 0\n",
    "        if location[j][y-1] == 0:\n",
    "            location[j][y-1] = 1\n",
    "        else:\n",
    "            location[j][y-1] = 0\n",
    "\n",
    "for i in range(19):\n",
    "    for j in range(19):\n",
    "        print(location[i][j], end=\" \")\n",
    "    print()"
   ]
  },
  {
   "cell_type": "markdown",
   "id": "60a67c1d",
   "metadata": {},
   "source": [
    "### 6097 : [기초-리스트] 설탕과자 뽑기(py)\n",
    "본 문제는 python 의 빠른 기초 학습을 위해 설계된 문제로서 python 코드 제출을 기준으로 설명되어 있습니다. \n",
    "- - - -- - \n",
    "\n",
    "부모님과 함께 놀러간 영일이는   \n",
    "설탕과자(설탕을 녹여 물고기 등의 모양을 만든 것) 뽑기를 보게 되었다.  \n",
    "\n",
    "길이가 다른 몇 개의 막대를 바둑판과 같은 격자판에 놓는데,  \n",
    "\n",
    "막대에 있는 설탕과자 이름 아래에 있는 번호를 뽑으면 설탕과자를 가져가는 게임이었다.  \n",
    "(잉어, 붕어, 용 등 여러 가지가 적혀있다.)   \n",
    "\n",
    "격자판의 세로(h), 가로(w), 막대의 개수(n), 각 막대의 길이(l),   \n",
    "막대를 놓는 방향(d:가로는 0, 세로는 1)과   \n",
    "막대를 놓는 막대의 가장 왼쪽 또는 위쪽의 위치(x, y)가 주어질 때,   \n",
    "\n",
    "격자판을 채운 막대의 모양을 출력하는 프로그램을 만들어보자.  "
   ]
  },
  {
   "cell_type": "code",
   "execution_count": 41,
   "id": "f7c6a6ca",
   "metadata": {},
   "outputs": [
    {
     "name": "stdout",
     "output_type": "stream",
     "text": [
      "5 5\n",
      "3\n",
      "2 0 1 1\n",
      "3 1 2 3\n",
      "4 1 2 5\n",
      "1 1 0 0 0\n",
      "0 0 1 0 1\n",
      "0 0 1 0 1\n",
      "0 0 1 0 1\n",
      "0 0 0 0 1\n"
     ]
    }
   ],
   "source": [
    "h, w = map(int, input().split())\n",
    "n = int(input())\n",
    "arr = [[0 for _ in range(w)] for __ in range(h)] \n",
    "for _ in range(n):\n",
    "    l, d, x, y = map(int, input().split())\n",
    "    for i in range(l):\n",
    "        if d == 0:\n",
    "            arr[x-1][y-1+i] = 1\n",
    "        else:\n",
    "            arr[x-1+i][y-1] = 1\n",
    "\n",
    "for val in arr:\n",
    "    print(*val)"
   ]
  },
  {
   "cell_type": "markdown",
   "id": "f1a3fa6b",
   "metadata": {},
   "source": [
    "### 6098 : [기초-리스트] 성실한 개미(py)\n",
    "\n",
    "본 문제는 python 의 빠른 기초 학습을 위해 설계된 문제로서 python 코드 제출을 기준으로 설명되어 있습니다. \n",
    "- - - - - -\n",
    "\n",
    "영일이는 생명과학에 관심이 생겨 왕개미를 연구하고 있었다.    \n",
    "\n",
    "왕개미를 유심히 살펴보던 중 특별히 성실해 보이는 개미가 있었는데,   \n",
    "그 개미는 개미굴에서 나와 먹이까지 가장 빠른 길로 이동하는 것이었다.   \n",
    "\n",
    "개미는 오른쪽으로 움직이다가 벽을 만나면 아래쪽으로 움직여 가장 빠른 길로 움직였다.   \n",
    "(오른쪽에 길이 나타나면 다시 오른쪽으로 움직인다.)   \n",
    "\n",
    "이에 호기심이 생긴 영일이는 그 개미를 미로 상자에 넣고 살펴보기 시작하였다.   \n",
    "\n",
    "미로 상자에 넣은 개미는 먹이를 찾았거나, 더 이상 움직일 수 없을 때까지   \n",
    "오른쪽 또는 아래쪽으로만 움직였다.   \n",
    "\n",
    "미로 상자의 구조가 0(갈 수 있는 곳), 1(벽 또는 장애물)로 주어지고,   \n",
    "먹이가 2로 주어질 때, 성실한 개미의 이동 경로를 예상해보자.   \n",
    "\n",
    "단, 맨 아래의 가장 오른쪽에 도착한 경우, 더 이상 움직일 수 없는 경우, 먹이를 찾은 경우에는   \n",
    "더이상 이동하지 않고 그 곳에 머무른다고 가정한다.   \n",
    "\n",
    "미로 상자의 테두리는 모두 벽으로 되어 있으며,   \n",
    "개미집은 반드시 (2, 2)에 존재하기 때문에 개미는 (2, 2)에서 출발한다.    "
   ]
  },
  {
   "cell_type": "code",
   "execution_count": 45,
   "id": "c2c247c7",
   "metadata": {
    "collapsed": true
   },
   "outputs": [
    {
     "name": "stdout",
     "output_type": "stream",
     "text": [
      "1\n",
      "1\n",
      "1\n",
      "1\n",
      "1\n",
      "1\n",
      "1\n",
      "1\n",
      "1\n",
      "1\n"
     ]
    },
    {
     "ename": "IndexError",
     "evalue": "list index out of range",
     "output_type": "error",
     "traceback": [
      "\u001b[0;31m---------------------------------------------------------------------------\u001b[0m",
      "\u001b[0;31mIndexError\u001b[0m                                Traceback (most recent call last)",
      "Input \u001b[0;32mIn [45]\u001b[0m, in \u001b[0;36m<cell line: 8>\u001b[0;34m()\u001b[0m\n\u001b[1;32m      6\u001b[0m j \u001b[38;5;241m=\u001b[39m \u001b[38;5;241m2\u001b[39m\n\u001b[1;32m      7\u001b[0m \u001b[38;5;28;01mwhile\u001b[39;00m \u001b[38;5;28;01mTrue\u001b[39;00m:\n\u001b[0;32m----> 8\u001b[0m     \u001b[38;5;28;01mif\u001b[39;00m \u001b[43marr\u001b[49m\u001b[43m[\u001b[49m\u001b[43mi\u001b[49m\u001b[43m]\u001b[49m\u001b[43m[\u001b[49m\u001b[43mj\u001b[49m\u001b[43m]\u001b[49m \u001b[38;5;241m==\u001b[39m \u001b[38;5;241m0\u001b[39m:\n\u001b[1;32m      9\u001b[0m         arr[i][j] \u001b[38;5;241m=\u001b[39m \u001b[38;5;241m9\u001b[39m\n\u001b[1;32m     10\u001b[0m     \u001b[38;5;28;01melif\u001b[39;00m arr[i][j] \u001b[38;5;241m==\u001b[39m \u001b[38;5;241m2\u001b[39m:\n",
      "\u001b[0;31mIndexError\u001b[0m: list index out of range"
     ]
    }
   ],
   "source": [
    "arr = []\n",
    "for _ in range(10):\n",
    "    arr.append(list(map(int, input().split())))\n",
    "    \n",
    "i = 1\n",
    "j = 1\n",
    "while True:\n",
    "    if arr[i][j] == 0:\n",
    "        arr[i][j] = 9\n",
    "    elif arr[i][j] == 2:\n",
    "        arr[i][j] = 9\n",
    "        break\n",
    "    \n",
    "    if (arr[i][j+1] == 1 and arr[i+1][j] == 1) or (i == 9 and j == 9) :\n",
    "        break\n",
    "\n",
    "    if arr[i][j+1]!=1 :\n",
    "        j += 1\n",
    "    elif arr[i+1][j]!=1 :\n",
    "        i += 1\n",
    "        \n",
    "for val in arr:\n",
    "    print(*val)"
   ]
  }
 ],
 "metadata": {
  "kernelspec": {
   "display_name": "Python 3 (ipykernel)",
   "language": "python",
   "name": "python3"
  },
  "language_info": {
   "codemirror_mode": {
    "name": "ipython",
    "version": 3
   },
   "file_extension": ".py",
   "mimetype": "text/x-python",
   "name": "python",
   "nbconvert_exporter": "python",
   "pygments_lexer": "ipython3",
   "version": "3.9.12"
  }
 },
 "nbformat": 4,
 "nbformat_minor": 5
}
