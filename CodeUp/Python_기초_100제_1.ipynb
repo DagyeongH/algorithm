{
 "cells": [
  {
   "cell_type": "markdown",
   "id": "3d76eb1f",
   "metadata": {},
   "source": [
    "### 6001 : [기초-출력] 출력하기01(설명)(py)\n",
    "python 언어에서 가장 기본적인 명령이 출력문이다.  \n",
    "print( )를 이용해 다음 단어를 출력하시오.\n",
    "\n",
    "Hello\n",
    "\n",
    "참고  \n",
    "아래와 같은 소스 코드를 작성하고 실행시키면,  \n",
    "지정한 \"문장\"이 출력(print)된다.  \n",
    "print(\"문장\")   \n",
    "\n",
    "** 주의 : 본 화면에서 복사하여 붙여넣기하면 제대로 되지 않을 수 있으니 직접 소스코드를 작성해 넣어야 한다."
   ]
  },
  {
   "cell_type": "code",
   "execution_count": 1,
   "id": "5a8f4122",
   "metadata": {},
   "outputs": [
    {
     "name": "stdout",
     "output_type": "stream",
     "text": [
      "Hello\n"
     ]
    }
   ],
   "source": [
    "print('Hello')"
   ]
  },
  {
   "cell_type": "markdown",
   "id": "bb2d3ebf",
   "metadata": {},
   "source": [
    "### 6002 : [기초-출력] 출력하기02(설명)(py)\n",
    "\n",
    "본 문제는 python의 빠른 기초 학습을 위해 설계된 문제로서 python 코드 제출을 기준으로 설명되어 있습니다.  \n",
    "- - - - - -  \n",
    "이번에는 공백( )을 포함한 문장을 출력한다.   \n",
    "다음 문장을 출력해보자.  \n",
    "\n",
    "Hello World  \n",
    "(대소문자에 주의한다.)  \n",
    "\n",
    "참고  \n",
    "print(\"문장1 문장2\")   \n",
    "을 실행시키면 \"문장1”, \"문장2\"가 공백( )을 사이에 두고 출력된다.  \n",
    "print(\"문장1\", \"문장2\")  \n",
    "도 \"문장1\"과 \"문장2\" 사이에 공백( )을 출력한다.  \n",
    "\n",
    "** 주의 : 본 화면에서 복사하여 붙여넣기하면 제대로 되지 않을 수 있으니 직접 소스코드를 작성해 넣어야 한다.  "
   ]
  },
  {
   "cell_type": "code",
   "execution_count": 2,
   "id": "69135b80",
   "metadata": {},
   "outputs": [
    {
     "name": "stdout",
     "output_type": "stream",
     "text": [
      "Hello World\n"
     ]
    }
   ],
   "source": [
    "print('Hello World')"
   ]
  },
  {
   "cell_type": "markdown",
   "id": "0fab789f",
   "metadata": {},
   "source": [
    "### 6003 : [기초-출력] 출력하기03(설명)(py)\n",
    "\n",
    "본 문제는 python 의 빠른 기초 학습을 위해 설계된 문제로서 python 코드 제출을 기준으로 설명되어 있습니다.  \n",
    "- - - - - - \n",
    "\n",
    "이번에는 줄을 바꿔 출력하는 출력문을 연습해보자.  \n",
    "다음과 같이 줄을 바꿔 출력해야 한다.  \n",
    "\n",
    "Hello  \n",
    "World  \n",
    "(두 줄에 걸쳐 줄을 바꿔 출력)  \n",
    "\n",
    "예시  \n",
    "print(\"Hello\")  \n",
    "print(\"World\")  \n",
    "\n",
    "참고  \n",
    "python의 기본 print( ) 를 이용해 출력하면 문장을 출력한 후 마지막에 줄을 바꾼다.(new line)  \n",
    "출력 후 줄을 바꾸는 대신 스페이스( ) 공백을 붙이도록 설정하는 방법도 있다.  \n",
    "\n",
    "** 주의 : 본 화면에서 복사하여 붙여넣기하면 제대로 되지 않을 수 있으니 직접 소스코드를 작성해 넣어야한다. "
   ]
  },
  {
   "cell_type": "code",
   "execution_count": 3,
   "id": "496c1a8e",
   "metadata": {},
   "outputs": [
    {
     "name": "stdout",
     "output_type": "stream",
     "text": [
      "Hello\n",
      "World\n"
     ]
    }
   ],
   "source": [
    "print('Hello')\n",
    "print('World')"
   ]
  },
  {
   "cell_type": "markdown",
   "id": "af798c91",
   "metadata": {},
   "source": [
    "### 6004 : [기초-출력] 출력하기04(설명)(py)\n",
    "본 문제는 python 의 빠른 기초 학습을 위해 설계된 문제로서 python 코드 제출을 기준으로 설명되어 있습니다. \n",
    "- - - - - -\n",
    "\n",
    "이번에는 작은 따옴표(')(single quotation mark)가 들어있는  \n",
    "출력문 연습을 해보자.  \n",
    "\n",
    "다음 문장을 출력하시오.  \n",
    "\n",
    "'Hello'  \n",
    "\n",
    "예시  \n",
    "print(\" ' \");  \n",
    "\n",
    "** 주의 : 본 화면에서 복사하여 붙여넣기하면 제대로 되지 않을 수 있으니 직접 작성해야한다. "
   ]
  },
  {
   "cell_type": "code",
   "execution_count": 4,
   "id": "3b4d80eb",
   "metadata": {},
   "outputs": [
    {
     "name": "stdout",
     "output_type": "stream",
     "text": [
      "'Hello'\n"
     ]
    }
   ],
   "source": [
    "print(\"'Hello'\")"
   ]
  },
  {
   "cell_type": "markdown",
   "id": "3d4f6eee",
   "metadata": {},
   "source": [
    "### 6005 : [기초-출력] 출력하기05(설명)(py)\n",
    "본 문제는 python 의 빠른 기초 학습을 위해 설계된 문제로서 python 코드 제출을 기준으로 설명되어 있습니다. \n",
    "- - - - - -\n",
    "\n",
    "이번에는 큰따옴표(\")(double quotation mark)가 포함된 출력문을 연습해보자.  \n",
    "\n",
    "다음 문장을 출력하시오.  \n",
    "\n",
    "\"Hello World\"  \n",
    "(단, 큰따옴표도 함께 출력한다.)  \n",
    "\n",
    "예시  \n",
    "print(' \" ');  \n",
    "\n",
    "참고  \n",
    "python 언어에서 print( ) 로 출력할 문장을 표현할 때 큰 따옴표 기호(\")로 묶어 표현한다. \n",
    "따라서, 큰따옴표 기호 그 자체를 출력하기 위해서는 다른 방법을 사용해야한다. \n",
    "python 언어에서 문장(문자열)을 표현하는 기호로 \"와 '를 쌍으로 묶어 사용할 수 있다. \n",
    "따라서, 문장을 표현할 때 사용하는 큰따옴표(\"문장\") 기호 대신 작은따옴표('문장')를 사용하면 큰따옴표를 출력할 수 있다. \n",
    "(물론, 큰따옴표를 출력하는 다른 방법도 있다.)  \n",
    "\n",
    "** 주의 : 본 화면에서 복사하여 붙여넣기하면 제대로 되지 않을 수 있으니 직접 작성해야한다."
   ]
  },
  {
   "cell_type": "code",
   "execution_count": 5,
   "id": "7c0a9254",
   "metadata": {},
   "outputs": [
    {
     "name": "stdout",
     "output_type": "stream",
     "text": [
      "\"Hello World\"\n"
     ]
    }
   ],
   "source": [
    "print('\"Hello World\"')"
   ]
  },
  {
   "cell_type": "markdown",
   "id": "7ce5640f",
   "metadata": {},
   "source": [
    "### 6006 : [기초-출력] 출력하기06(py)\n",
    "본 문제는 python 의 빠른 기초 학습을 위해 설계된 문제로서 python 코드 제출을 기준으로 설명되어 있습니다. \n",
    "- - - - - -\n",
    "이번에는 특수문자 출력에 도전하자!!  \n",
    "\n",
    "다음 문장을 출력하시오.  \n",
    "\n",
    "\"!@#$%^&*()'  \n",
    "(단, 큰따옴표와 작은따옴표도 함께 출력한다.)  \n",
    "\n",
    " \n",
    "\n",
    "출력 형식에 필요한 따옴표와 출력할 문자인 따옴표를 구분하기 위하여  \n",
    "\n",
    "\\\" 또는 \\' 를 이용하여 출력할 수 있다.  \n",
    "  \n",
    "\n",
    "** 주의 : 본 화면에서 복사하여 붙여넣기하면 제대로 되지 않을 수 있으니 직접 작성해야한다.  "
   ]
  },
  {
   "cell_type": "code",
   "execution_count": 8,
   "id": "ff64b7bf",
   "metadata": {},
   "outputs": [
    {
     "name": "stdout",
     "output_type": "stream",
     "text": [
      "\"!@#$%^&*()'\n"
     ]
    }
   ],
   "source": [
    "print('\"!@#$%^&*()\\'')"
   ]
  },
  {
   "cell_type": "markdown",
   "id": "ce5e092d",
   "metadata": {},
   "source": [
    "### 6007 : [기초-출력] 출력하기07(py)\n",
    "본 문제는 python 의 빠른 기초 학습을 위해 설계된 문제로서 python 코드 제출을 기준으로 설명되어 있습니다. \n",
    "\n",
    "------\n",
    "\n",
    "윈도우 운영체제의 파일 경로를 출력하는 연습을 해보자.\n",
    " \n",
    "파일 경로에는 특수문자들이 포함된다.\n",
    "\n",
    "다음 경로를 출력하시오.\n",
    "\n",
    "\"C:\\Download\\\\'hello'.py\"\n",
    "(단, 따옴표도 함께 출력한다.)\n",
    "\n",
    " \n",
    "\n",
    "\\도 안전하게 출력하려면 \\\\를 사용하는 것이 좋다.\n",
    "\n",
    "\n",
    "** 주의 : 본 화면에서 복사하여 붙여넣기하면 제대로 되지 않을 수 있으니 직접 작성해야한다."
   ]
  },
  {
   "cell_type": "code",
   "execution_count": 12,
   "id": "981f63b6",
   "metadata": {},
   "outputs": [
    {
     "name": "stdout",
     "output_type": "stream",
     "text": [
      "\"C:\\Download\\'hello'.py\"\n"
     ]
    }
   ],
   "source": [
    "print('\"C:\\\\Download\\\\\\'hello\\'.py\"')"
   ]
  },
  {
   "cell_type": "markdown",
   "id": "f1111116",
   "metadata": {},
   "source": [
    "###  6008 : [기초-출력] 출력하기08(py)\n",
    "\n",
    "본 문제는 python 의 빠른 기초 학습을 위해 설계된 문제로서 python 코드 제출을 기준으로 설명되어 있습니다. \n",
    "- - - - - -\n",
    "\n",
    "출력문 연습의 마지막 문제이다.\n",
    "(생각과 시도를 많이 해야하는 문제들은 한 두 문제씩 넘겼다가 나중에 풀어보면 된다.)\n",
    "\n",
    "이번에는 다음과 같은 python프로그램의 소스코드를 출력해보자.\n",
    "\n",
    "print(\"Hello\\nWorld\")\n",
    "\n",
    "위 코드를 정확히 그대로 출력하시오.(공백문자 주의)\n",
    "\n",
    " \n",
    "\n",
    "print 명령 안에 서식 문자로 \\n을 사용하면 줄 바꿈(new line) 문자로 사용된다.\n",
    "\n",
    "그렇다면 \\n을 화면에 그대로 출력하려면 어떻게 해야될까?\n",
    "\n",
    "** 주의 : 본 화면에서 복사하여 붙여넣기하면 제대로 되지 않을 수 있으니 직접 소스코드를 작성해 넣어야 한다.\n"
   ]
  },
  {
   "cell_type": "code",
   "execution_count": 13,
   "id": "882c6181",
   "metadata": {},
   "outputs": [
    {
     "name": "stdout",
     "output_type": "stream",
     "text": [
      "print(\"Hello\\nWorld\")\n"
     ]
    }
   ],
   "source": [
    "print('print(\"Hello\\\\nWorld\")')"
   ]
  },
  {
   "cell_type": "markdown",
   "id": "8fcc44a7",
   "metadata": {},
   "source": [
    "### 6009 : [기초-입출력] 문자 1개 입력받아 그대로 출력하기(설명)(py)\n",
    "\n",
    "본 문제는 python 의 빠른 기초 학습을 위해 설계된 문제로서 python 코드 제출을 기준으로 설명되어 있습니다. \n",
    "- - - - - -\n",
    "\n",
    "문자(character)는 \n",
    "0~9, a~z, A~Z, !, @, #, {, [, <, ... 과 같이 \n",
    "길이가 1인 기호라고 할 수 있다.\n",
    "\n",
    "변수에 문자 1개를 저장한 후\n",
    "변수에 저장되어 있는 문자를 그대로 출력해보자.\n",
    "\n",
    "예시\n",
    "c = input()\n",
    "print(c)\n",
    "\n",
    "와 같은 형태로 가능하다.\n",
    "\n",
    "참고  \n",
    "input() 을 사용하면 키보드로 입력한 값을 가져온다.  \n",
    "변수 = input()  \n",
    "를 실행시키면 키보드로 입력한 값을 왼쪽의 변수에 저장한다.  \n",
    "\n",
    "변수(variable)는 어떤 값(정수, 실수, 문자, 문자열 등)을 저장할 수 있는 공간의 별명이라고 할 수 있다.  \n",
    "어떤 값을 저장했다가 다시 사용하기 위해서 변수를 사용한다. 저장할 내용들이 많으면 필요한 만큼 변수를 만들어 사용하면 된다.  \n",
    "변수는 포스트 잇과 같은 메모지에 필요한 내용을 적어두었다가, 필요할 때 찾아 살펴보는 것과 비슷하다.  \n",
    "\n",
    "대수학(algebra)에서는 어떤 수나 값을 대신해 문자로 표현하는 방법을 사용한다.   \n",
    "프로그래밍언어에서도 마찬가지로 자신이 알아보기 쉬운 짧은 단어를 사용하는 것이 좋다. 예시) y = x + 3 \n"
   ]
  },
  {
   "cell_type": "code",
   "execution_count": 14,
   "id": "08825feb",
   "metadata": {},
   "outputs": [
    {
     "name": "stdout",
     "output_type": "stream",
     "text": [
      "a\n",
      "a\n"
     ]
    }
   ],
   "source": [
    "c = input()\n",
    "print(c)"
   ]
  },
  {
   "cell_type": "markdown",
   "id": "56a4b297",
   "metadata": {},
   "source": [
    "### 6010 : [기초-입출력] 정수 1개 입력받아 int로 변환하여 출력하기(설명)(py)\n",
    "\n",
    "본 문제는 python 의 빠른 기초 학습을 위해 설계된 문제로서 python 코드 제출을 기준으로 설명되어 있습니다. \n",
    "- - - - - -\n",
    "정수(integer)는\n",
    "양의 정수(1, 2, 3, 4, 5, ...), 음의 정수(-1, -2, -3, -4, -5, ...), 0 과 같이\n",
    "소숫점 아래에 수가 없는 수라고 할 수 있다.\n",
    "\n",
    "변수에 정수값을 저장한 후 정수로 변환하여 출력해보자.\n",
    "\n",
    "예시\n",
    "n = input()\n",
    "n = int(n)\n",
    "print(n)\n",
    "와 같은 형태로 가능하다.\n",
    "\n",
    "참고\n",
    "input() 을 사용하면 키보드로 입력(input)한 값을 가져온다.\n",
    "\n",
    " \n",
    "\n",
    "변수 = input()\n",
    "를 실행시키면 키보드로 입력한 값을 왼쪽의 변수에 저장(할당, asign) 한다.  \n",
    " \n",
    "변수는 어떤 값(정수, 실수, 문자, 문자열 등)을 저장할 수 있는 공간의 별명이라고 할 수 있다.  \n",
    "변수는 일반적으로 알파벳(a~z, A~Z)이나 언더라인 '_'으로 시작하는 단어를 사용하고, 숫자(0~9)로 시작하는 단어는 사용할 수 없다.  \n",
    "숫자로 시작하는 단어는 수로 인식하기 때문이다.  \n",
    "(python의 경우 한글 변수도 사용할 수 있지만, 영문을 사용하는 것이 예상하지 못하는 오류를 방지할 수 있다.)  \n",
    "\n",
    "'=' 연산자는 오른쪽의 계산 결과 값을 왼쪽의 변수에 저장하라는 의미의 대입연산자이다.  \n",
    "왼쪽의 결과값과 오른쪽의 결과값이 같다는 의미의 수학식의 등호와는 의미가 다르다.   "
   ]
  },
  {
   "cell_type": "code",
   "execution_count": 15,
   "id": "4b23dd9d",
   "metadata": {},
   "outputs": [
    {
     "name": "stdout",
     "output_type": "stream",
     "text": [
      "1\n",
      "1\n"
     ]
    }
   ],
   "source": [
    "i = int(input())\n",
    "print(i)"
   ]
  },
  {
   "cell_type": "markdown",
   "id": "7713362f",
   "metadata": {},
   "source": [
    "### 6011 : [기초-입출력] 실수 1개 입력받아 변환하여 출력하기(설명)(py)\n",
    "\n",
    "본 문제는 python 의 빠른 기초 학습을 위해 설계된 문제로서 python 코드 제출을 기준으로 설명되어 있습니다. \n",
    "- - - - - -\n",
    "\n",
    "숫자(0~9)와 소수점(.)을 사용해 표현한 수를 실수(real number)라고 한다.\n",
    "\n",
    "변수에 실수값을 저장한 후  \n",
    "변수에 저장되어 있는 값을 그대로 출력해보자.\n",
    "\n",
    "예시  \n",
    "f = input()  \n",
    "f = float(f)  \n",
    "print(f)  \n",
    "와 같은 형태로 가능하다.  \n",
    "\n",
    "참고  \n",
    "어떤 값을 1개 입력받아 계산하거나 처리해야하는 경우라면, 입력되는 값이 수인지 문자열인지 구분해야한다.  \n",
    "조금 생각해보면, 키보드로 입력한 9라는 값이 문자 9인지, 정수 9인지, 실수 9.0인지 컴퓨터가 스스로 구분하지 못한다는 것을 알 수 있다.   \n",
    "컴퓨터 내부에서는 2진 체계의 디지털 형태로만 저장할 수 있기 때문에 정수, 문자, 실수 등의 저장 방법이 다르다.  \n",
    "입력한 값을 원하는 형태로 계산하거나 처리하기 위해서는 입력한 값이 어떤 데이터(정수, 문자, 실수, 문자열 등)인지 명확히 구분해 주어야 한다.  "
   ]
  },
  {
   "cell_type": "code",
   "execution_count": 16,
   "id": "24f26124",
   "metadata": {},
   "outputs": [
    {
     "name": "stdout",
     "output_type": "stream",
     "text": [
      "3.14\n",
      "3.14\n"
     ]
    }
   ],
   "source": [
    "f = float(input())\n",
    "print(f)"
   ]
  },
  {
   "cell_type": "markdown",
   "id": "cb497a2b",
   "metadata": {},
   "source": [
    "### 6012 : [기초-입출력] 정수 2개 입력받아 그대로 출력하기1(설명)(py)\n",
    "본 문제는 python 의 빠른 기초 학습을 위해 설계된 문제로서 python 코드 제출을 기준으로 설명되어 있습니다. \n",
    "- - - - - -\n",
    "\n",
    "줄을 바꿔 정수(integer) 2개를 입력받아 줄을 바꿔 출력해보자.\n",
    "\n",
    "예시  \n",
    "a = input()   \n",
    "b = input()  \n",
    "a=int(a)  \n",
    "b=int(b)  \n",
    "print(a)  \n",
    "print(b)  \n",
    "과 같은 방법으로 가능하다."
   ]
  },
  {
   "cell_type": "code",
   "execution_count": 17,
   "id": "2acda034",
   "metadata": {},
   "outputs": [
    {
     "name": "stdout",
     "output_type": "stream",
     "text": [
      "1\n",
      "2\n",
      "1\n",
      "2\n"
     ]
    }
   ],
   "source": [
    "a = int(input())\n",
    "b = int(input())\n",
    "print(a)\n",
    "print(b)"
   ]
  },
  {
   "cell_type": "markdown",
   "id": "68ba3473",
   "metadata": {},
   "source": [
    "### 6013 : [기초-입출력] 문자 2개 입력받아 순서 바꿔 출력하기1(py)\n",
    "\n",
    "본 문제는 python 의 빠른 기초 학습을 위해 설계된 문제로서 python 코드 제출을 기준으로 설명되어 있습니다. \n",
    "- - - - - -\n",
    "\n",
    "줄을 바꿔 문자(character) 2개를 입력받고, 순서를 바꿔 한 줄씩 출력해보자. "
   ]
  },
  {
   "cell_type": "code",
   "execution_count": 18,
   "id": "e4ed0c9c",
   "metadata": {},
   "outputs": [
    {
     "name": "stdout",
     "output_type": "stream",
     "text": [
      "a\n",
      "b\n",
      "b\n",
      "a\n"
     ]
    }
   ],
   "source": [
    "a = input()\n",
    "b = input()\n",
    "print(b)\n",
    "print(a)"
   ]
  },
  {
   "cell_type": "markdown",
   "id": "20ba5693",
   "metadata": {},
   "source": [
    "### 6014 : [기초-입출력] 실수 1개 입력받아 3번 출력하기(py)\n",
    "본 문제는 python 의 빠른 기초 학습을 위해 설계된 문제로서 python 코드 제출을 기준으로 설명되어 있습니다. \n",
    "- - - - - -\n",
    "\n",
    "실수(real number) 1개를 입력받아 줄을 바꿔 3번 출력해보자. \n",
    "\n",
    "예시  \n",
    "...   \n",
    "print(f)  #f에 저장되어있는 값을 출력하고 줄을 바꾼다.  \n",
    "print(f)  \n",
    "print(f)  \n",
    "와 같은 방법으로 3번 줄을 바꿔 출력할 수 있다.  \n",
    "\n",
    "참고  \n",
    "python 코드 사이에 설명(주석)을 작성해 넣고 싶은 경우 샵('#') 기호를 사용하면 된다.   \n",
    "#가 시작된 위치부터 그 줄을 마지막까지는 python 인터프리터에 의해서 실행되지 않는다.   \n",
    "소스코드 부분 부분에 설명, 내용, 표시를 한 줄 설명으로 넣을 경우에 편리하게 사용할 수 있다.   \n",
    "여러 줄로 설명을 넣는 방법도 있다. 스스로 찾아보자!   "
   ]
  },
  {
   "cell_type": "code",
   "execution_count": 19,
   "id": "cd65f30d",
   "metadata": {},
   "outputs": [
    {
     "name": "stdout",
     "output_type": "stream",
     "text": [
      "3.141\n",
      "3.141\n",
      "3.141\n",
      "3.141\n"
     ]
    }
   ],
   "source": [
    "f = float(input())\n",
    "print(f)\n",
    "print(f)\n",
    "print(f)"
   ]
  },
  {
   "cell_type": "markdown",
   "id": "03e2049d",
   "metadata": {},
   "source": [
    "### 6015 : [기초-입출력] 정수 2개 입력받아 그대로 출력하기2(설명)(py)\n",
    "본 문제는 python 의 빠른 기초 학습을 위해 설계된 문제로서 python 코드 제출을 기준으로 설명되어 있습니다. \n",
    "- - - - - -\n",
    "\n",
    "공백을 두고 입력된정수(integer) 2개를 입력받아 줄을 바꿔 출력해보자.  \n",
    "\n",
    "예시  \n",
    "a, b = input().split()  \n",
    "a=int(a)  \n",
    "b=int(b)  \n",
    "print(a)    \n",
    "print(b)  \n",
    "과 같은 방법으로 두 정수를 입력받아 출력할 수 있다.  \n",
    "\n",
    "참고  \n",
    "python의 input()은 한 줄 단위로 입력을 받는다.  \n",
    "input().split() 를 사용하면, 공백을 기준으로 입력된 값들을 나누어(split) 자른다.  \n",
    "a, b = 1, 2  \n",
    "를 실행하면, a에는 1 b에는 2가 저장된다.  \n",
    "(주의 : 하지만, 다른 일반적인 프로그래밍언어에서는 이러한 방법을 지원하지 않기 때문에 a=1, b=2 를 한 번에 하나씩 따로 실행시켜야 한다.)  "
   ]
  },
  {
   "cell_type": "code",
   "execution_count": 21,
   "id": "69b26862",
   "metadata": {},
   "outputs": [
    {
     "name": "stdout",
     "output_type": "stream",
     "text": [
      "2 5\n",
      "2\n",
      "5\n"
     ]
    }
   ],
   "source": [
    "a, b = map(int, input().split())\n",
    "print(a)\n",
    "print(b)"
   ]
  },
  {
   "cell_type": "markdown",
   "id": "97853ee5",
   "metadata": {},
   "source": [
    "### 6016 : [기초-입출력] 문자 2개 입력받아 순서 바꿔 출력하기2(설명)(py)\n",
    "본 문제는 python 의 빠른 기초 학습을 위해 설계된 문제로서 python 코드 제출을 기준으로 설명되어 있습니다. \n",
    "- - - - - -\n",
    "\n",
    "공백을 두고 문자(character) 2개를 입력받아 순서를 바꿔 출력해보자. \n",
    "\n",
    "참고  \n",
    "...   \n",
    "print(c2, c1)   \n",
    "와 같은 방법으로 출력하면, c1과 c2에 저장된 값이 공백을 두고 순서가 바뀌어 한 줄로 출력된다.  \n",
    "print( ) 안에서 쉼표(,)를 찍어 순서대로 나열하면, 그 순서대로 공백을 두고 출력된다.\n"
   ]
  },
  {
   "cell_type": "code",
   "execution_count": 22,
   "id": "791476bc",
   "metadata": {},
   "outputs": [
    {
     "name": "stdout",
     "output_type": "stream",
     "text": [
      "a b\n",
      "b a\n"
     ]
    }
   ],
   "source": [
    "a, b = input().split()\n",
    "print(b, a)"
   ]
  },
  {
   "cell_type": "markdown",
   "id": "203ed568",
   "metadata": {},
   "source": [
    "### 6017 : [기초-입출력] 문장 1개 입력받아 3번 출력하기(설명)(py)\n",
    "\n",
    "본 문제는 python 의 빠른 기초 학습을 위해 설계된 문제로서 python 코드 제출을 기준으로 설명되어 있습니다. \n",
    "- - -\n",
    "\n",
    "정수(integer), 실수, 문자(character), 문자열(string) 등 1개만 입력받아 한 줄로 3번 출력해보자. \n",
    "\n",
    "예시  \n",
    "s = input()  \n",
    "print(s, s, s)  #공백으로 구분해 한 줄로 출력한다.  \n",
    "와 같은 방법으로 3번 출력할 수 있다.  \n",
    "\n",
    "참고  \n",
    "python 언어에서는 문자/정수/실수/문자열 등 특별한 구분이 없이도 원하는 변수에 저장시켜 출력 할 수 있다.  \n",
    "하지만, 저장된 값을 이용해 계산하거나 서로 붙여 연결시키거나 잘라내는 작업을 한다면?  \n",
    "반드시 저장되어있는 값의 종류(문자/정수/실수/문자열 등)를 구분해 주어야 한다.   "
   ]
  },
  {
   "cell_type": "code",
   "execution_count": 24,
   "id": "d61a48f1",
   "metadata": {},
   "outputs": [
    {
     "name": "stdout",
     "output_type": "stream",
     "text": [
      "computer science\n",
      "computer science computer science computer science\n"
     ]
    }
   ],
   "source": [
    "s = input()\n",
    "print(s, s, s)"
   ]
  },
  {
   "cell_type": "markdown",
   "id": "25795dd2",
   "metadata": {},
   "source": [
    "### 6018 : [기초-입출력] 시간 입력받아 그대로 출력하기(설명)(py)\n",
    "본 문제는 python 의 빠른 기초 학습을 위해 설계된 문제로서 python 코드 제출을 기준으로 설명되어 있습니다. \n",
    "- - - \n",
    "24시간 시:분 형식으로 시간이 입력될 때, 그대로 출력하는 연습을 해보자.  \n",
    "\n",
    "예시  \n",
    "a, b = input().split(':')  \n",
    "print(a, b, sep=':')  \n",
    "와 같은 방법으로 가능하다.  \n",
    "\n",
    "참고   \n",
    "input().split(':') 를 사용하면 콜론 ':' 기호를 기준으로 자른다.  \n",
    "print(?, ?, sep=':') 를 사용하면 콜론 ':' 기호를 사이에 두고 값을 출력한다.  \n",
    "sep 는 분류기호(seperator)를 의미한다.  "
   ]
  },
  {
   "cell_type": "code",
   "execution_count": 26,
   "id": "c07adb0f",
   "metadata": {},
   "outputs": [
    {
     "name": "stdout",
     "output_type": "stream",
     "text": [
      "3:16\n",
      "3:16\n"
     ]
    }
   ],
   "source": [
    "s = input()\n",
    "print(s)"
   ]
  },
  {
   "cell_type": "markdown",
   "id": "b6235445",
   "metadata": {},
   "source": [
    "### 6019 : [기초-입출력] 연월일 입력받아 순서 바꿔 출력하기(py)\n",
    "본 문제는 python 의 빠른 기초 학습을 위해 설계된 문제로서 python 코드 제출을 기준으로 설명되어 있습니다. \n",
    "- - - -\n",
    "\n",
    "\"연도.월.일\"을 입력받아 \"일-월-연도\" 순서로 바꿔 출력해보자. \n",
    "\n",
    "참고   \n",
    "y, m, d = input().split('.')   \n",
    "과 같이 변수들을 순서대로 나열하면 구분기호를 기준으로 잘라 순서대로 저장한다. "
   ]
  },
  {
   "cell_type": "code",
   "execution_count": 27,
   "id": "8cd888f2",
   "metadata": {},
   "outputs": [
    {
     "name": "stdout",
     "output_type": "stream",
     "text": [
      "2023.8.25\n",
      "25-8-2023\n"
     ]
    }
   ],
   "source": [
    "year, month, day = input().split('.')\n",
    "print(day, month, year, sep='-')"
   ]
  },
  {
   "cell_type": "markdown",
   "id": "c5b36a73",
   "metadata": {},
   "source": [
    "### 6020 : [기초-입출력] 주민번호 입력받아 형태 바꿔 출력하기(py)\n",
    "\n",
    "본 문제는 python 의 빠른 기초 학습을 위해 설계된 문제로서 python 코드 제출을 기준으로 설명되어 있습니다. \n",
    "- - - -\n",
    "\n",
    "주민번호는 다음과 같이 구성된다.  \n",
    "XXXXXX-XXXXXXX  \n",
    "\n",
    "왼쪽 6자리는 생년월일(YYMMDD)이고, 오른쪽 7자리는 성별,출생지역,확인코드로 구성되어있다.  \n",
    "주민번호를 입력받아 형태(XXXXXXXXXXXXX)로 바꿔 출력해보자. "
   ]
  },
  {
   "cell_type": "code",
   "execution_count": 28,
   "id": "803016eb",
   "metadata": {},
   "outputs": [
    {
     "name": "stdout",
     "output_type": "stream",
     "text": [
      "000907-1121112\n",
      "0009071121112\n"
     ]
    }
   ],
   "source": [
    "s1, s2= input().split('-')\n",
    "print(s1+s2)"
   ]
  },
  {
   "cell_type": "markdown",
   "id": "c490979a",
   "metadata": {},
   "source": [
    "### 6021 : [기초-입출력] 단어 1개 입력받아 나누어 출력하기(설명)(py)\n",
    "\n",
    "본 문제는 python 의 빠른 기초 학습을 위해 설계된 문제로서 python 코드 제출을 기준으로 설명되어 있습니다. \n",
    "- - - - - -\n",
    "\n",
    "알파벳과 숫자로 이루어진 단어 1개가 입력된다. \n",
    "입력받은 단어의 각 문자를 한 줄에 한 문자씩 분리해 출력한다. \n",
    "\n",
    "예시  \n",
    "s = input()  \n",
    "print(s[0])  \n",
    "print(s[1])  \n",
    "...  \n",
    "\n",
    "참고   \n",
    "s[0] 은 첫 번째 문자를 의미한다.   "
   ]
  },
  {
   "cell_type": "code",
   "execution_count": 30,
   "id": "8a90fab8",
   "metadata": {},
   "outputs": [
    {
     "name": "stdout",
     "output_type": "stream",
     "text": [
      "hello\n",
      "h\n",
      "e\n",
      "l\n",
      "l\n",
      "o\n"
     ]
    }
   ],
   "source": [
    "s = input()\n",
    "for val in s:\n",
    "    print(val)"
   ]
  },
  {
   "cell_type": "markdown",
   "id": "77ba4b12",
   "metadata": {},
   "source": [
    "### 6022 : [기초-입출력] 연월일 입력받아 나누어 출력하기(설명)(py)\n",
    "\n",
    "본 문제는 python 의 빠른 기초 학습을 위해 설계된 문제로서 python 코드 제출을 기준으로 설명되어 있습니다. \n",
    "- - - - - -\n",
    "\n",
    "6자리의 연월일(YYMMDD)을 입력받아 나누어 출력해보자. \n",
    "\n",
    "참고 \n",
    "s = input() \n",
    "print(s[0:2]) \n",
    "\n",
    "를 실행하면 0번째 문자부터 1번째 문자까지 잘라 출력한다.  \n",
    "s[a:b] 라고 하면, s라는 단어에서 a번째 문자부터 b-1번째 문자까지 잘라낸 부분을 의미한다.   \n",
    "다른 자르기 방법도 있다.  \n"
   ]
  },
  {
   "cell_type": "code",
   "execution_count": 31,
   "id": "7226ecbd",
   "metadata": {},
   "outputs": [
    {
     "name": "stdout",
     "output_type": "stream",
     "text": [
      "230825\n",
      "23 08 25\n"
     ]
    }
   ],
   "source": [
    "s = input()\n",
    "print(s[:2], s[2:4], s[4:])"
   ]
  },
  {
   "cell_type": "markdown",
   "id": "be15a4de",
   "metadata": {},
   "source": [
    "### 6023 : [기초-입출력] 시분초 입력받아 분만 출력하기(py)\n",
    "본 문제는 python 의 빠른 기초 학습을 위해 설계된 문제로서 python 코드 제출을 기준으로 설명되어 있습니다. \n",
    "- - - - - -\n",
    "\n",
    "시:분:초 형식으로 시간이 입력될 때 분만 출력해보자. \n",
    "\n",
    "어떻게 분만 출력해야 할지 주의 깊게 생각해야한다. "
   ]
  },
  {
   "cell_type": "code",
   "execution_count": 33,
   "id": "2f8fce2c",
   "metadata": {},
   "outputs": [
    {
     "name": "stdout",
     "output_type": "stream",
     "text": [
      "17:23:57\n",
      "23\n"
     ]
    }
   ],
   "source": [
    "hour, minute, second = input().split(':')\n",
    "print(minute)"
   ]
  },
  {
   "cell_type": "markdown",
   "id": "6f79f5a0",
   "metadata": {},
   "source": [
    "### 6024 : [기초-입출력] 단어 2개 입력받아 이어 붙이기(설명)(py)\n",
    "\n",
    "본 문제는 python 의 빠른 기초 학습을 위해 설계된 문제로서 python 코드 제출을 기준으로 설명되어 있습니다. \n",
    "- - - - - -\n",
    "\n",
    "알파벳 문자와 숫자로 이루어진 단어 2개를 입력받아  \n",
    "순서대로 붙여 출력하는 프로그램을 작성해보자.  \n",
    "\n",
    "예시  \n",
    "w1, w2 = input().split()  \n",
    "s = w1 + w2  \n",
    "print(s)  \n",
    "  \n",
    "참고  \n",
    "단어는 문자(character)들로 만든다.  \n",
    "문자들로 구성된 문장을 문자열(string)이라고 부른다.  \n",
    "문자열에는 공백문자(' ')가 포함될 수 있는데,   \n",
    "문자 1개는 길이가 1인 문자열이라고 할 수 있고, 공백문자(' ')가 없는 문자열은 단어(word)라고 할 수 있다.  \n",
    "\n",
    "일반적인 문장들은 공백으로 구분된 단어들로 만들어지기 때문에,  \n",
    "공백문자로 구분된 문장에서 단어를 잘라내기 위해서는 공백문자(' ')를 기준으로 자르면 된다.  \n",
    "키보드로 입력되는 것들은 기본적으로 문자열로 인식되고, 문자열끼리 더하기(+)를 실행하면,  \n",
    "두 문자열을 합쳐 연결한(concatenate) 결과를 만들어 낸다.  "
   ]
  },
  {
   "cell_type": "code",
   "execution_count": 1,
   "id": "b032f8d2",
   "metadata": {},
   "outputs": [
    {
     "name": "stdout",
     "output_type": "stream",
     "text": [
      "hello world\n",
      "helloworld\n"
     ]
    }
   ],
   "source": [
    "s1, s2 = input().split()\n",
    "print(s1+s2)"
   ]
  },
  {
   "cell_type": "markdown",
   "id": "b9f97aca",
   "metadata": {},
   "source": [
    "### 6025 : [기초-값변환] 정수 2개 입력받아 합 계산하기(설명)(py)\n",
    "본 문제는 python 의 빠른 기초 학습을 위해 설계된 문제로서 python 코드 제출을 기준으로 설명되어 있습니다. \n",
    "- - - - - -\n",
    "\n",
    "정수 2개를 입력받아  \n",
    "합을 출력하는 프로그램을 작성해보자.  \n",
    "\n",
    "예시  \n",
    "a, b = input().split()  \n",
    "c = int(a) + int(b)  \n",
    "print(c)  \n",
    "\n",
    "참고  \n",
    "입력되는 값은 기본적으로 문자열로 인식된다.  \n",
    "  \n",
    "문자열 + 문자열은 두 문자열을 합친 문자열을 만든다.  \n",
    "숫자로 구성된 문자열이나 실수를 정수(integer) 값으로 바꾸기 위해서는 int( ) 를 사용할 수 있다.  \n",
    "수 + 수의 결과는 합(addition)이 계산된다.  "
   ]
  },
  {
   "cell_type": "code",
   "execution_count": 2,
   "id": "d090a470",
   "metadata": {},
   "outputs": [
    {
     "name": "stdout",
     "output_type": "stream",
     "text": [
      "123 -123\n",
      "0\n"
     ]
    }
   ],
   "source": [
    "a, b = map(int, input().split())\n",
    "print(a+b)"
   ]
  },
  {
   "cell_type": "markdown",
   "id": "fd825bc4",
   "metadata": {},
   "source": [
    "### 6026 : [기초-값변환] 실수 2개 입력받아 합 계산하기(설명)(py)\n",
    "본 문제는 python 의 빠른 기초 학습을 위해 설계된 문제로서 python 코드 제출을 기준으로 설명되어 있습니다. \n",
    "- - - - --\n",
    "\n",
    "실수 2개를 입력받아   \n",
    "합을 출력하는 프로그램을 작성해보자.  \n",
    "  \n",
    "참고  \n",
    "입력되는 값은 기본적으로 문자열로 인식된다.  \n",
    "  \n",
    "숫자로 구성된 문자열이나 정수를 실수(real number) 값으로 바꾸기 위해서는 float( ) 를 사용할 수 있다.  \n",
    "소숫점(.)은 그 위치가 정해져있지 않고 이리저리 둥둥 떠다니므로, floating point라고 부른다.   \n"
   ]
  },
  {
   "cell_type": "code",
   "execution_count": 3,
   "id": "4a58a4a0",
   "metadata": {},
   "outputs": [
    {
     "name": "stdout",
     "output_type": "stream",
     "text": [
      "0.1\n",
      "0.9\n",
      "1.0\n"
     ]
    }
   ],
   "source": [
    "f1 = float(input())\n",
    "f2 = float(input())\n",
    "print(f1 + f2)"
   ]
  },
  {
   "cell_type": "markdown",
   "id": "10393917",
   "metadata": {},
   "source": [
    "### 6027 : [기초-출력변환] 10진 정수 입력받아 16진수로 출력하기1(설명)(py)\n",
    "\n",
    "본 문제는 python 의 빠른 기초 학습을 위해 설계된 문제로서 python 코드 제출을 기준으로 설명되어 있습니다. \n",
    "- - - - --\n",
    "\n",
    "10진수를 입력받아 16진수(hexadecimal)로 출력해보자.  \n",
    "\n",
    "예시  \n",
    "a = input() \n",
    "n = int(a)            #입력된 a를 10진수 값으로 변환해 변수 n에 저장  \n",
    "print('%x'% n)  #n에 저장되어있는 값을 16진수(hexadecimal) 소문자 형태 문자열로 출력  \n",
    "  \n",
    "참고  \n",
    "10진수 형태로 입력받고  \n",
    "%x로 출력하면 16진수(hexadecimal) 소문자로 출력된다.  \n",
    "(%o로 출력하면 8진수(octal) 문자열로 출력된다.)  \n",
    "  \n",
    "10진법은 한 자리에 10개(0 1 2 3 4 5 6 7 8 9)의 문자를 사용하고,  \n",
    "16진법은 영문 소문자를 사용하는 경우에 한 자리에 16개(0 1 2 3 4 5 6 7 8 9 a b c d e f)의 문자를 사용한다.  \n",
    "16진수 a는 10진수의 10, b는 11, c는 12 ... 와 같다.  \n"
   ]
  },
  {
   "cell_type": "code",
   "execution_count": 8,
   "id": "36215185",
   "metadata": {},
   "outputs": [
    {
     "name": "stdout",
     "output_type": "stream",
     "text": [
      "255\n",
      "ff\n"
     ]
    }
   ],
   "source": [
    "a = int(input())\n",
    "print('%x' %a)"
   ]
  },
  {
   "cell_type": "markdown",
   "id": "d204e066",
   "metadata": {},
   "source": [
    "### 6028 : [기초-출력변환] 10진 정수 입력받아 16진수로 출력하기2(설명)(py)\n",
    "\n",
    "본 문제는 python 의 빠른 기초 학습을 위해 설계된 문제로서 python 코드 제출을 기준으로 설명되어 있습니다. \n",
    "- - - - --\n",
    "\n",
    "10진수를 입력받아 16진수(hexadecimal)로 출력해보자.   \n",
    "\n",
    "예시  \n",
    "print('%X' % n)  #n에 저장되어있는 값을 16진수 대문자 형태 문자열로 출력  \n",
    "\n",
    "참고  \n",
    "10진수 형태로 입력받고  \n",
    "%X로 출력하면 16진수(hexadecimal)대문자로 출력된다.  \n",
    "\n",
    "16진법은 영문 소문자를 사용하는 경우에 한 자리에 16개(0 1 2 3 4 5 6 7 8 9 A B C D E F)의 문자를 사용한다.  \n",
    "16진수 A는 10진수의 10, B는 11, C는 12 ... 와 같다.  \n"
   ]
  },
  {
   "cell_type": "code",
   "execution_count": 9,
   "id": "d558905c",
   "metadata": {},
   "outputs": [
    {
     "name": "stdout",
     "output_type": "stream",
     "text": [
      "255\n",
      "FF\n"
     ]
    }
   ],
   "source": [
    "a = int(input())\n",
    "print('%X' %a)"
   ]
  },
  {
   "cell_type": "markdown",
   "id": "01f93c7d",
   "metadata": {},
   "source": [
    "### 6029 : [기초-값변환] 16진 정수 입력받아 8진수로 출력하기(설명)(py)\n",
    "\n",
    "본 문제는 python 의 빠른 기초 학습을 위해 설계된 문제로서 python 코드 제출을 기준으로 설명되어 있습니다. \n",
    "- - - - - -\n",
    "\n",
    "16진수를 입력받아 8진수(octal)로 출력해보자.  \n",
    "\n",
    "예시 \n",
    "a = input() \n",
    "n = int(a, 16)      #입력된 a를 16진수로 인식해 변수 n에 저장  \n",
    "print('%o' % n)  #n에 저장되어있는 값을 8진수(octal) 형태 문자열로 출력  \n",
    "  \n",
    "참고  \n",
    "8진법은 한 자리에 8개(0 1 2 3 4 5 6 7)의 문자를 사용한다.  \n",
    "8진수 10은 10진수의 8, 11은 9, 12는 10 ... 와 같다.  \n"
   ]
  },
  {
   "cell_type": "code",
   "execution_count": 11,
   "id": "1ce19e1f",
   "metadata": {},
   "outputs": [
    {
     "name": "stdout",
     "output_type": "stream",
     "text": [
      "f\n",
      "17\n"
     ]
    }
   ],
   "source": [
    "a = int(input(), 16)\n",
    "print('%o' %a)"
   ]
  },
  {
   "cell_type": "markdown",
   "id": "133aa97b",
   "metadata": {},
   "source": [
    "### 6030 : [기초-값변환] 영문자 1개 입력받아 10진수로 변환하기(설명)(py)\n",
    "\n",
    "본 문제는 python 의 빠른 기초 학습을 위해 설계된 문제로서 python 코드 제출을 기준으로 설명되어 있습니다. \n",
    "-  - - -  - -\n",
    "\n",
    "영문자 1개를 입력받아 10진수 유니코드(Unicode) 값으로 출력해보자.  \n",
    "\n",
    "예시  \n",
    "n = ord(input())  \n",
    "print(n)  \n",
    "\n",
    "참고  \n",
    "n = ord(input())  #입력받은 문자를 10진수 유니코드 값으로 변환한 후, n에 저장한다.  \n",
    "\n",
    "ord( ) 는 어떤 문자의 순서 위치(ordinal position) 값을 의미한다.    \n",
    "실제로 각각의 문자들에는 연속된 정수 값이 순서에 따라 부여 되어 있다. A:65, B:66, C:67 ....   \n",
    "ord(c) : 문자 c 를 10진수로 변환한 값   \n",
    "\n",
    "컴퓨터로 저장되고 처리되는 모든 데이터들은 2진수 형태로 정수화 되어야 하는데,  \n",
    "컴퓨터에 문자를 저장하는 방법으로 아스키코드(ASCII Code)나 유니코드(Unicode)가 자주 사용된다.  \n",
    "\n",
    "예를 들어, 영문 대문자 'A'는 10진수 값 65 로 표현하고,   \n",
    "2진수(binary digit) 값 1000001 로 바꾸어 컴퓨터 내부에 저장한다.   \n",
    "\n",
    "유니코드(unicode)는 세계 여러 나라의 문자를 공통된 코드 값으로 저장할 때 사용하는 표준 코드이다.  "
   ]
  },
  {
   "cell_type": "code",
   "execution_count": 12,
   "id": "4d9fbbd1",
   "metadata": {},
   "outputs": [
    {
     "name": "stdout",
     "output_type": "stream",
     "text": [
      "A\n",
      "65\n"
     ]
    }
   ],
   "source": [
    "a = ord(input())\n",
    "print(a)"
   ]
  },
  {
   "cell_type": "markdown",
   "id": "e1fdf35d",
   "metadata": {},
   "source": [
    "### 6031 : [기초-값변환] 정수 입력받아 유니코드 문자로 변환하기(설명)(py)\n",
    "본 문제는 python 의 빠른 기초 학습을 위해 설계된 문제로서 python 코드 제출을 기준으로 설명되어 있습니다. \n",
    "- - - - - -\n",
    "\n",
    "10진 정수 1개를 입력받아  \n",
    "유니코드 문자로 출력해보자.  \n",
    "  \n",
    "  \n",
    "예시  \n",
    "c = int(input())  \n",
    "print(chr(c))  #c에 저장되어 있는 정수 값을 유니코드 문자(chracter)로 바꿔 출력한다.   \n",
    "  \n",
    "  \n",
    "참고  \n",
    "입력은 기본적으로 모두 문자열로 입력되는 것이라고 할 수 있다.   \n",
    "따라서, 입력 값이 문자/문자열/정수/실수인지에 따라서 먼저 정확하게 변환시킨 다음에 사용하거나 계산하는 것이 좋다.  \n",
    "  \n",
    "예를 들어 123 이 입력 되었다고 한다면, 이건 정수일까? 문자열일까?  \n",
    "조금 생각해보면, 입력된 것만 보고는 그 값이 어떤 데이터인지 알 수 없다는 것을 쉽게 이해할 수 있다.  \n",
    "따라서, 그 입력 값을 어떻게 해석하고 변환할 지에 대해서 명확하게 작성해 주어야 하는 것이다.   \n",
    "  \n",
    "chr( )는 정수값->문자, ord( )는 문자->정수값 형태로 바꿔주는 서로 반대 방향으로 바꾸어 주는 기능을 한다.  \n",
    " "
   ]
  },
  {
   "cell_type": "code",
   "execution_count": 13,
   "id": "88480607",
   "metadata": {},
   "outputs": [
    {
     "name": "stdout",
     "output_type": "stream",
     "text": [
      "65\n",
      "A\n"
     ]
    }
   ],
   "source": [
    "a = int(input())\n",
    "print(chr(a))"
   ]
  },
  {
   "cell_type": "markdown",
   "id": "76b2c5ff",
   "metadata": {},
   "source": [
    "### 6032 : [기초-산술연산] 정수 1개 입력받아 부호 바꾸기(설명)(py)\n",
    "\n",
    "본 문제는python의 빠른 기초 학습을 위해 설계된 문제로서python코드 제출을 기준으로 설명되어 있습니다. \n",
    "- - - - - -\n",
    "\n",
    "입력된 정수의 부호를 바꿔 출력해보자.  \n",
    "\n",
    "\n",
    "예시  \n",
    "...  \n",
    "print(-n)  \n",
    "\n",
    "참고   \n",
    "단항(unary) 연산자인 -(negative)를 변수 앞에 붙이면 부호가 반대인 값이 된다.  "
   ]
  },
  {
   "cell_type": "code",
   "execution_count": 15,
   "id": "b9477feb",
   "metadata": {},
   "outputs": [
    {
     "name": "stdout",
     "output_type": "stream",
     "text": [
      "-1\n",
      "1\n"
     ]
    }
   ],
   "source": [
    "a = int(input())\n",
    "print(-a)"
   ]
  },
  {
   "cell_type": "markdown",
   "id": "d9fd953b",
   "metadata": {},
   "source": [
    "### 6033 : [기초-산술연산] 문자 1개 입력받아 다음 문자 출력하기(설명)(py)\n",
    "\n",
    "본 문제는 python 의 빠른 기초 학습을 위해 설계된 문제로서 python 코드 제출을 기준으로 설명되어 있습니다. \n",
    "- - - - - -\n",
    "\n",
    "문자 1개를 입력받아 그 다음 문자를 출력해보자. \n",
    "영문자 'A'의 다음 문자는 'B'이고, 숫자 '0'의 다음 문자는 '1'이다.\n",
    "\n",
    "예시 \n",
    "... \n",
    "print(chr(n+1)) \n",
    "\n",
    "참고\n",
    "숫자는 수를 표현하는 문자로서 '0' 은 문자 그 자체를 의미하고, 0은 값을 의미한다.\n",
    "\n",
    "힌트\n",
    "아스키문자표에서 'A'는 10진수 65로 저장되고 'B'는 10진수 66으로 저장된다.\n",
    "따라서, 문자도 값으로 덧셈을 할 수 있다. 어떤 문자의 값에 1을 더하면 그 다음 문자의 값이 된다."
   ]
  },
  {
   "cell_type": "code",
   "execution_count": 17,
   "id": "f0c2165a",
   "metadata": {},
   "outputs": [
    {
     "name": "stdout",
     "output_type": "stream",
     "text": [
      "a\n",
      "b\n"
     ]
    }
   ],
   "source": [
    "a = input()\n",
    "print(chr(ord(a)+1))"
   ]
  },
  {
   "cell_type": "markdown",
   "id": "d026a858",
   "metadata": {},
   "source": [
    "### 6034 : [기초-산술연산] 정수 2개 입력받아 차 계산하기(설명)(py)\n",
    "본 문제는 python 의 빠른 기초 학습을 위해 설계된 문제로서 python 코드 제출을 기준으로 설명되어 있습니다. \n",
    "- - - - - -\n",
    "\n",
    "정수 2개(a, b)를 입력받아 a에서 b를 뺀 차를 출력하는 프로그램을 작성해보자.  \n",
    "\n",
    "예시  \n",
    "...  \n",
    "c = a - b  \n",
    "print(c)  \n",
    "  \n",
    "참고  \n",
    "수 - 수는 차(subtraction)가 계산된다.  "
   ]
  },
  {
   "cell_type": "code",
   "execution_count": 18,
   "id": "0474a616",
   "metadata": {},
   "outputs": [
    {
     "name": "stdout",
     "output_type": "stream",
     "text": [
      "123 -123\n",
      "246\n"
     ]
    }
   ],
   "source": [
    "a, b = map(int, input().split())\n",
    "print(a-b)"
   ]
  },
  {
   "cell_type": "markdown",
   "id": "6a110844",
   "metadata": {},
   "source": [
    "### 6035 : [기초-산술연산] 실수 2개 입력받아 곱 계산하기(설명)(py)\n",
    "\n",
    "본 문제는 python 의 빠른 기초 학습을 위해 설계된 문제로서 python 코드 제출을 기준으로 설명되어 있습니다. \n",
    "- - - - - -\n",
    " \n",
    "실수 2개(f1, f2)를 입력받아 곱을 출력하는 프로그램을 작성해보자.  \n",
    "\n",
    "예시  \n",
    "...  \n",
    "m = f1 * f2  \n",
    "print(m)  \n",
    "  \n",
    "참고  \n",
    "수 * 수는 곱(multiplication)이 계산된다.  \n",
    " "
   ]
  },
  {
   "cell_type": "code",
   "execution_count": 20,
   "id": "35ad3b7b",
   "metadata": {},
   "outputs": [
    {
     "name": "stdout",
     "output_type": "stream",
     "text": [
      "0.5 2.0\n",
      "1.0\n"
     ]
    }
   ],
   "source": [
    "f1, f2 = map(float, input().split())\n",
    "print(f1*f2)"
   ]
  },
  {
   "cell_type": "markdown",
   "id": "d7f2eb64",
   "metadata": {},
   "source": [
    "### 6036 : [기초-산술연산] 단어 여러 번 출력하기(설명)(py)\n",
    "\n",
    "본 문제는 python 의 빠른 기초 학습을 위해 설계된 문제로서 python 코드 제출을 기준으로 설명되어 있습니다. \n",
    "- - - - - -\n",
    "\n",
    "단어와 반복 횟수를 입력받아 여러 번 출력해보자.  \n",
    "\n",
    "예시  \n",
    "w, n = input().split()  \n",
    "print(w*int(n))  \n",
    "\n",
    "참고  \n",
    "문자열 * 정수 또는 정수 * 문자열은 그 문자열을 여러 번 반복한 문자열을 만들어 준다.  "
   ]
  },
  {
   "cell_type": "code",
   "execution_count": 22,
   "id": "652f19e5",
   "metadata": {},
   "outputs": [
    {
     "name": "stdout",
     "output_type": "stream",
     "text": [
      "love 3\n",
      "lovelovelove\n"
     ]
    }
   ],
   "source": [
    "s, n = input().split()\n",
    "print(s*int(n))"
   ]
  },
  {
   "cell_type": "markdown",
   "id": "1d966325",
   "metadata": {},
   "source": [
    "### 6037 : [기초-산술연산] 문장 여러 번 출력하기(설명)(py)\n",
    "본 문제는 python 의 빠른 기초 학습을 위해 설계된 문제로서 python 코드 제출을 기준으로 설명되어 있습니다. \n",
    "- - - - - -\n",
    "\n",
    "반복 횟수와 문장을 입력받아 여러 번 출력해보자.  \n",
    "\n",
    "예시   \n",
    "n = input()  \n",
    "s = input()  \n",
    "print(int(n)*s)  \n",
    "\n",
    "참고  \n",
    "문자열 * 정수 또는 정수 * 문자열은 그 문자열을 여러 번 반복한 문자열을 만들어 준다.  "
   ]
  },
  {
   "cell_type": "code",
   "execution_count": 23,
   "id": "168b8a5a",
   "metadata": {},
   "outputs": [
    {
     "name": "stdout",
     "output_type": "stream",
     "text": [
      "3\n",
      "I love CS\n",
      "I love CSI love CSI love CS\n"
     ]
    }
   ],
   "source": [
    "n = int(input())\n",
    "s = input()\n",
    "print(s*n)"
   ]
  },
  {
   "cell_type": "markdown",
   "id": "64772411",
   "metadata": {},
   "source": [
    "### 6038 : [기초-산술연산] 정수 2개 입력받아 거듭제곱 계산하기(설명)(py)\n",
    "\n",
    "본 문제는 python 의 빠른 기초 학습을 위해 설계된 문제로서 python 코드 제출을 기준으로 설명되어 있습니다. \n",
    "- - - - - -\n",
    "\n",
    "정수 2개(a, b)를 입력받아  \n",
    "a를 b번 곱한 거듭제곱을 출력하는 프로그램을 작성해보자.  \n",
    "\n",
    "예시  \n",
    "...  \n",
    "c = a**b  \n",
    "print(c)  \n",
    "  \n",
    "참고  \n",
    "python 언어에서는 거듭제곱을 계산하는 연산자(**)를 제공한다.  \n",
    "일반적으로 수학 식에서 거듭제곱을 표현하는 사용하는 서컴플렉스/케릿 기호(^)는 프로그래밍언어에서 다른 의미로 쓰인다.  "
   ]
  },
  {
   "cell_type": "code",
   "execution_count": 26,
   "id": "cd002e5e",
   "metadata": {},
   "outputs": [
    {
     "name": "stdout",
     "output_type": "stream",
     "text": [
      "2 10\n",
      "1024\n"
     ]
    }
   ],
   "source": [
    "a, b = map(int, input().split())\n",
    "print(a**b)"
   ]
  },
  {
   "cell_type": "markdown",
   "id": "9e66ccc9",
   "metadata": {},
   "source": [
    "### 6039 : [기초-산술연산] 실수 2개 입력받아 거듭제곱 계산하기(py)\n",
    "본 문제는 python 의 빠른 기초 학습을 위해 설계된 문제로서 python 코드 제출을 기준으로 설명되어 있습니다. \n",
    "- - - - - -\n",
    "\n",
    "실수 2개(f1, f2)를 입력받아  \n",
    "f1을 f2번 거듭제곱한 값을 출력하는 프로그램을 작성해보자.  \n",
    "  \n",
    "참고  \n",
    "python 언어에서는 거듭제곱(exponentiation)을 계산하는 연산자(**)를 제공한다.  \n",
    "일반적으로 수학 식에서 거듭제곱을 표현하는 사용하는 서컴플렉스/케릿 기호(^)는 프로그래밍언어에서 다른 의미로 쓰인다.  "
   ]
  },
  {
   "cell_type": "code",
   "execution_count": 27,
   "id": "959a3c69",
   "metadata": {},
   "outputs": [
    {
     "name": "stdout",
     "output_type": "stream",
     "text": [
      "4.0 2.0\n",
      "16.0\n"
     ]
    }
   ],
   "source": [
    "f1, f2 = map(float, input().split())\n",
    "print(f1**f2)"
   ]
  },
  {
   "cell_type": "markdown",
   "id": "64b84b09",
   "metadata": {},
   "source": [
    "### 6040 : [기초-산술연산] 정수 2개 입력받아 나눈 몫 계산하기(설명)(py)\n",
    "본 문제는python의 빠른 기초 학습을 위해 설계된 문제로서python코드 제출을 기준으로 설명되어 있습니다. \n",
    "- - - - - -\n",
    "\n",
    "정수 2개(a, b) 를 입력받아 a를 b로 나눈 몫을 출력해보자. \n",
    "\n",
    "예시  \n",
    "...  \n",
    "print(a//b)   \n",
    "  \n",
    "참고  \n",
    "python언어에서는 나눈 몫을 계산하는 연산자(//, floor division)를 제공한다.  \n",
    "a//b 와 같이 작성하면, a를 b로 나눈 몫(quotient)을 계산해준다.  \n",
    "프로그래밍언어에 따라 이렇게 몫을 계산해주는 연산자가 없는 경우도 있다.   \n",
    "  \n",
    "실수로 나눈 몫이 어떻게 계산될지도 생각해보자.  "
   ]
  },
  {
   "cell_type": "code",
   "execution_count": 28,
   "id": "80199017",
   "metadata": {},
   "outputs": [
    {
     "name": "stdout",
     "output_type": "stream",
     "text": [
      "10 3\n",
      "3\n"
     ]
    }
   ],
   "source": [
    "a, b = map(int, input().split())\n",
    "print(a//b)"
   ]
  },
  {
   "cell_type": "markdown",
   "id": "80cd3c22",
   "metadata": {},
   "source": [
    "### 6041 : [기초-산술연산] 정수 2개 입력받아 나눈 나머지 계산하기(설명)(py)\n",
    "\n",
    "본 문제는 python 의 빠른 기초 학습을 위해 설계된 문제로서 python 코드 제출을 기준으로 설명되어 있습니다. \n",
    "- - - - - -\n",
    "\n",
    "정수 2개(a, b) 를 입력받아 a를 b로 나눈 나머지를 출력해보자.  \n",
    "  \n",
    "예시  \n",
    "...  \n",
    "print(a%b)  \n",
    "  \n",
    "참고  \n",
    "python 언어에서는 나눈 나머지를 계산하는 연산자(%, remainder)를 제공한다.  \n",
    "a%b 와 같이 작성하면, a를 b로 나눈 나머지(remainder)를 계산해준다.   \n",
    "나머지 연산(modulus, mod 연산)은 수학자 가우스가 생각해 낸 연산으로,  \n",
    "어떤 수를 다른 수로 나누고 난 후 남는 나머지를 계산하는 연산이다.   \n",
    "  \n",
    "실수로 나눈 나머지가 어떻게 계산될지도 생각해보자.   "
   ]
  },
  {
   "cell_type": "code",
   "execution_count": 1,
   "id": "0200751f",
   "metadata": {},
   "outputs": [
    {
     "name": "stdout",
     "output_type": "stream",
     "text": [
      "10 3\n",
      "1\n"
     ]
    }
   ],
   "source": [
    "a, b = map(int, input().split())\n",
    "print(a%b)"
   ]
  },
  {
   "cell_type": "markdown",
   "id": "9a11d1f2",
   "metadata": {},
   "source": [
    "### 6042 : [기초-값변환] 실수 1개 입력받아 소숫점이하 자리 변환하기(설명)(py)\n",
    "본 문제는 python 의 빠른 기초 학습을 위해 설계된 문제로서 python 코드 제출을 기준으로 설명되어 있습니다. \n",
    "- - - - - -\n",
    "\n",
    "실수 1개를 입력받아  \n",
    "소숫점 이하 두 번째 자리까지의 정확도로 반올림한 값을 출력해보자.  \n",
    "\n",
    "  \n",
    "예시  \n",
    "  \n",
    "a=input()  \n",
    "a=float(a)  \n",
    "print( format(a, \".2f\") )  \n",
    "  \n",
    "\n",
    "참고  \n",
    "format(수, \".2f\") 를 사용하면 원하는 자리까지의 정확도로 반올림 된 실수 값을 만들어 준다.   \n",
    "  \n",
    "여기서 만들어진 값은 소수점 아래 3번째 자리에서 반올림한 값이다.  \n",
    "  \n",
    "컴퓨터 프로그래밍에서 실수 변환이나 실수를 사용하는 계산은  \n",
    "정확하게 변환되거나 계산되는 것이 아니라, 거의 모두 근사값으로 계산되는 것이라고 할 수 있다.   \n",
    "  \n",
    "실수가 컴퓨터로 저장되기 위해서는 디지털방식으로 2진 정수화되어 저장되어야 하는데,  \n",
    "그 과정에서 아주 작은 부분이 저장되지 않고 사라지는 잘림(truncation) 오차가 자주 발생하기 때문이다.  "
   ]
  },
  {
   "cell_type": "code",
   "execution_count": 3,
   "id": "c2ffba80",
   "metadata": {},
   "outputs": [
    {
     "name": "stdout",
     "output_type": "stream",
     "text": [
      "3.141592\n",
      "3.14\n"
     ]
    }
   ],
   "source": [
    "a = float(input())\n",
    "print(round(a, 2))"
   ]
  },
  {
   "cell_type": "markdown",
   "id": "cfc9964b",
   "metadata": {},
   "source": [
    "### 6043 : [기초-산술연산] 실수 2개 입력받아 나눈 결과 계산하기(py)\n",
    "본 문제는 python 의 빠른 기초 학습을 위해 설계된 문제로서 python 코드 제출을 기준으로 설명되어 있습니다. \n",
    "- - - - - -\n",
    "\n",
    "실수 2개(f1, f2)를 입력받아  \n",
    "f1 을 f2 로 나눈 값을 출력해보자. 이 때 소숫점 넷째자리에서 반올림하여 무조건 소숫점 셋째 자리까지 출력한다.  \n",
    "  \n",
    "\n",
    "참고  \n",
    "python 언어에는 나눗셈(division)을 계산하는 연산자(/)가 있다.  \n",
    "  \n",
    "컴퓨터 프로그래밍에서 실수 변환이나 실수를 사용하는 계산은   \n",
    "정확하게 변환되거나 계산되는 것이 아니라, 거의 모두 근사값으로 계산되는 것이라고 할 수 있다.    \n",
    "  \n",
    "실수가 컴퓨터로 저장되기 위해서는 디지털방식으로 2진 정수화되어 저장되어야 하는데,     \n",
    "그 과정에서 아주 작은 부분이 저장되지 않고 사라지는 잘림(truncation) 오차가 자주 발생하기 때문이다.  \n",
    "  \n",
    "계산 결과값 중에서 믿을 수 있는 숫자의 개수를 의미하는, 유효숫자에 대해 찾아보자.   \n",
    "과학실험에서 온도나 부피를 측정할 때에도 유효숫자는 중요하다.   "
   ]
  },
  {
   "cell_type": "code",
   "execution_count": 9,
   "id": "5008eef3",
   "metadata": {},
   "outputs": [
    {
     "name": "stdout",
     "output_type": "stream",
     "text": [
      "10.0 0.001\n",
      "10000.000\n"
     ]
    }
   ],
   "source": [
    "f1, f2 = map(float, input().split())\n",
    "result = f1 / f2\n",
    "print('{0:.3f}'.format(round(result, 3)))"
   ]
  },
  {
   "cell_type": "markdown",
   "id": "d480619a",
   "metadata": {},
   "source": [
    "### 6044 : [기초-산술연산] 정수 2개 입력받아 자동 계산하기(py)\n",
    "본 문제는 python 의 빠른 기초 학습을 위해 설계된 문제로서 python 코드 제출을 기준으로 설명되어 있습니다. \n",
    "- - - - - -\n",
    "\n",
    "정수 2개(a, b)를 입력받아 합, 차, 곱, 몫, 나머지, 나눈 값을 자동으로 계산해보자.  \n",
    "단, b는 0이 아니다.  "
   ]
  },
  {
   "cell_type": "code",
   "execution_count": 11,
   "id": "4c3782c2",
   "metadata": {},
   "outputs": [
    {
     "name": "stdout",
     "output_type": "stream",
     "text": [
      "10 3\n",
      "13\n",
      "7\n",
      "30\n",
      "3\n",
      "1\n",
      "3.33\n"
     ]
    }
   ],
   "source": [
    "a, b = map(int, input().split())\n",
    "print(a + b)\n",
    "print(a - b)\n",
    "print(a * b)\n",
    "print(a // b)\n",
    "print(a % b)\n",
    "print(round(a / b, 2))"
   ]
  },
  {
   "cell_type": "markdown",
   "id": "97b2836f",
   "metadata": {},
   "source": [
    "### 6045 : [기초-산술연산] 정수 3개 입력받아 합과 평균 출력하기(설명)(py)\n",
    "본 문제는 python 의 빠른 기초 학습을 위해 설계된 문제로서 python 코드 제출을 기준으로 설명되어 있습니다. \n",
    "- - - - - -\n",
    "\n",
    "정수 3개를 입력받아 합과 평균을 출력해보자.  \n",
    "  \n",
    "참고  \n",
    "공백으로 구분된 한 줄로 값들을 입력받기 위해서는  \n",
    "a, b, c = input().split()  \n",
    "과 같은 방법이 가능하고,  \n",
    "  \n",
    "공백으로 구분해 두 값을 출력하기 위해서는  \n",
    "print(d, e)  \n",
    "와 같은 방법이 가능하다.  \n",
    "  \n",
    "잘라낸 값들은 그 값의 특성(정수, 실수, 문자, 문자열 ...)에 따라 명확하게 변환시킨 후 사용하는 것이 좋다.  \n",
    "  \n",
    "python 프로그래밍을 처음 배울 때 좋은 습관(단계)  \n",
    "1. 입력된 문자열을 정확하게 잘라낸다.(공백, 줄바꿈, 구분문자 등에 따라 정확하게 잘라낸다.)\n",
    "2. 잘라낸 데이터들을 데이터형에 맞게 변환해 변수에 저장한다. (정수, 실수, 문자, 문자열 등에 따라 정확하게 변환한다.)\n",
    "3. 값을 저장했다가 다시 사용하기 위해, 변수를 이용해 값을 저장하고, 변수를 이용해 계산을 한다.\n",
    "4. 원하는 결과 값을 필요한 형태로 만들어 출력한다.(공백, 줄바꿈, 구분자, 등에 따라 원하는 형태로 만들어 출력한다.)"
   ]
  },
  {
   "cell_type": "code",
   "execution_count": 13,
   "id": "58038b28",
   "metadata": {},
   "outputs": [
    {
     "name": "stdout",
     "output_type": "stream",
     "text": [
      "1 2 3\n",
      "6 2.00\n"
     ]
    }
   ],
   "source": [
    "a, b, c = map(int, input().split())\n",
    "print(a + b + c, '{0:.2f}'.format(round((a + b + c) / 3, 2)))"
   ]
  },
  {
   "cell_type": "markdown",
   "id": "0e05c0d8",
   "metadata": {},
   "source": [
    "###  6046 : [기초-비트시프트연산] 정수 1개 입력받아 2배 곱해 출력하기(설명)(py)\n",
    "본 문제는 python 의 빠른 기초 학습을 위해 설계된 문제로서 python 코드 제출을 기준으로 설명되어 있습니다. \n",
    "- - - - - -\n",
    "\n",
    "정수 1개를 입력받아 2배 곱해 출력해보자. \n",
    "\n",
    "참고  \n",
    "*2 를 계산한 값을 출력해도 되지만,  \n",
    "정수를 2배로 곱하거나 나누어 계산해 주는 비트단위시프트연산자 <<, >>를 이용할 수 있다.  \n",
    "컴퓨터 내부에는 2진수 형태로 값들이 저장되기 때문에,   \n",
    "2진수 형태로 저장되어 있는 값들을 왼쪽(<<)이나 오른쪽(>>)으로   \n",
    "지정한 비트 수만큼 밀어주면 2배씩 늘어나거나 1/2로 줄어드는데,  \n",
    "\n",
    "왼쪽 비트시프트(<<)가 될 때에는 오른쪽에 0이 주어진 개수만큼 추가되고,  \n",
    "오른쪽 비트시프트(>>)가 될 때에는 왼쪽에 0(0 또는 양의 정수인 경우)이나 1(음의 정수인 경우)이 개수만큼 추가되고,   \n",
    "가장 오른쪽에 있는 1비트는 사라진다.   \n",
    "\n",
    "예시  \n",
    "n = 10  \n",
    "print(n<<1)  #10을 2배 한 값인 20 이 출력된다.   \n",
    "print(n>>1)  #10을 반으로 나눈 값인 5 가 출력된다.    \n",
    "print(n<<2)  #10을 4배 한 값인 40 이 출력된다.  \n",
    "print(n>>2)  #10을 반으로 나눈 후 다시 반으로 나눈 값인 2 가 출력된다.   \n",
    "\n",
    "정수 10의 2진수 표현은 ... 1010 이다.   \n",
    "10 << 1 을 계산하면 ... 10100 이 된다 이 값은 10진수로 20이다.   \n",
    "10 >> 1 을 계산하면 ... 101 이 된다. 이 값은 10진수로 5이다.   \n",
    "\n",
    "n = 10 과 같이 키보드로 입력받지 않고 직접 작성해 넣은 코드에서, 숫자로 시작하는 단어(식별자, identifier)는 자동으로 수로 인식된다.     \n",
    "\n",
    "n = 10 에서 10 은 10진수 정수 값으로 인식된다.   \n",
    "변수 n 에 문자열을 저장하고 싶다면, n = \"10\" 또는 n = '10'으로 작성해 넣으면 되고,   \n",
    "\n",
    "n = 10.0 으로 작성해 넣으면 자동으로 실수 값으로 저장된다.   \n",
    "n = 0o10 으로 작성해 넣으면 8진수(octal) 10으로 인식되어 10진수 8값이 저장되고,   \n",
    "n = 0xf 나 n = 0XF 으로 작성해 넣으면 16진수(hexadecimal) F로 인식되어 10진수 15값으로 저장된다.   \n",
    "\n",
    "** python에서 실수 값에 대한 비트시프트 연산은 허용되지 않고 오류가 발생한다.   \n",
    "(실수 값도 컴퓨터 내부적으로는 2진수 형태로 저장되고 비트시프트 처리가 될 수 있지만, python 에서는 허용하지 않는다.)   "
   ]
  },
  {
   "cell_type": "code",
   "execution_count": 14,
   "id": "0e9f8c51",
   "metadata": {},
   "outputs": [
    {
     "name": "stdout",
     "output_type": "stream",
     "text": [
      "1024\n",
      "2048\n"
     ]
    }
   ],
   "source": [
    "a = int(input())\n",
    "print(a*2)"
   ]
  },
  {
   "cell_type": "markdown",
   "id": "019486f2",
   "metadata": {},
   "source": [
    "### 6047 : [기초-비트시프트연산] 2의 거듭제곱 배로 곱해 출력하기(설명)(py)\n",
    "본 문제는 python 의 빠른 기초 학습을 위해 설계된 문제로서 python 코드 제출을 기준으로 설명되어 있습니다. \n",
    "- - - - - -\n",
    "\n",
    "정수 2개(a, b)를 입력받아 a를 2b배 곱한 값으로 출력해보자.  \n",
    "0 <= a <= 10, 0 <= b <= 10  \n",
    " \n",
    "예시  \n",
    "a = 2   \n",
    "b = 10   \n",
    "print(a << b)  #210 = 1024 가 출력된다.   \n",
    "  \n",
    "참고  \n",
    "예를 들어 1 3 이 입력되면 1을 23(8)배 하여 출력한다.   "
   ]
  },
  {
   "cell_type": "code",
   "execution_count": 16,
   "id": "885262d1",
   "metadata": {},
   "outputs": [
    {
     "name": "stdout",
     "output_type": "stream",
     "text": [
      "1 3\n",
      "8\n"
     ]
    }
   ],
   "source": [
    "a, b = map(int, input().split())\n",
    "print(a*(2**b))"
   ]
  },
  {
   "cell_type": "markdown",
   "id": "37e25fbe",
   "metadata": {},
   "source": [
    "### 6048 : [기초-비교연산] 정수 2개 입력받아 비교하기1(설명)(py)\n",
    "본 문제는 python 의 빠른 기초 학습을 위해 설계된 문제로서 python 코드 제출을 기준으로 설명되어 있습니다. \n",
    "- - - - - -\n",
    "\n",
    "두 정수(a, b)를 입력받아  \n",
    "a가 b보다 작으면 True 를, a가 b보다 크거나 같으면 False 를 출력하는 프로그램을 작성해보자.  \n",
    "\n",
    "예시  \n",
    "print(123<456)  #비교 연산자 < 의 계산 결과인 True(참)가 출력된다.   \n",
    "(123, 456 은 숫자로 작성된 단어이기 때문에 10진수로 인식된다.)   \n",
    "  \n",
    "참고  \n",
    "어떤 값을 비교하기 위해 비교/관계(comparison/relational) 연산자(operator)를 사용할 수 있다.  \n",
    "  \n",
    "비교/관계연산자 < (less than sign) 는  \n",
    "왼쪽의 값이 오른쪽 값 보다 작은 경우 True(참)로 계산하고,  \n",
    "그 외의 경우에는 False(거짓)로 계산한다.  \n",
    "  \n",
    "비교/관계연산자도 일반적인 사칙연산자처럼 주어진 두 수를 이용해 계산을 수행하고,  \n",
    "그 결과를 True(참), 또는 False(거짓)로 계산해 주는 연산자이다.  \n",
    "    \n",
    "비교/관계연산자는 <, >, <=, >=, ==(같다), !=(다르다) 6개가 있다.   \n",
    "  \n",
    "True(참) 또는 False(거짓) 값으로만 표현하고 저장하는 값을 불(bool)/불리언(boolean) 값이라고 한다.   \n",
    "정수, 실수, 문자, 문자열과 마찬가지로 또 다른 형태의 데이터형(data type)이다.  "
   ]
  },
  {
   "cell_type": "code",
   "execution_count": 17,
   "id": "9f424b20",
   "metadata": {},
   "outputs": [
    {
     "name": "stdout",
     "output_type": "stream",
     "text": [
      "1 9\n",
      "True\n"
     ]
    }
   ],
   "source": [
    "a, b = map(int, input().split())\n",
    "print(True if a < b else False)"
   ]
  },
  {
   "cell_type": "markdown",
   "id": "059ccccc",
   "metadata": {},
   "source": [
    "### 6049 : [기초-비교연산] 정수 2개 입력받아 비교하기2(설명)(py)\n",
    "\n",
    "본 문제는 python 의 빠른 기초 학습을 위해 설계된 문제로서 python 코드 제출을 기준으로 설명되어 있습니다. \n",
    "- - - - - -\n",
    "\n",
    "두 정수(a, b)를 입력받아   \n",
    "a와 b의 값이 같으면 True 를, 같지 않으면 False 를 출력하는 프로그램을 작성해보자.  \n",
    "\n",
    "참고   \n",
    "어떤 값을 비교하기 위해 비교/관계(comparison/relational) 연산자(operator)를 사용할 수 있다.  \n",
    "\n",
    "비교/관계연산자 == (equal sign 2개) 는  \n",
    "왼쪽의 계산 결과값과 오른쪽의 계산 결과값이 같은 경우 True(참)로 계산하고,  \n",
    "그 외의 경우에는 False(거짓)로 계산한다.  \n",
    "\n",
    "비교/관계연산자도 일반적인 사칙연산자처럼 주어진 두 수를 이용해 계산을 수행하고,  \n",
    "그 결과를 True(참), 또는 False(거짓)로 계산해 주는 연산자이다.  \n",
    "\n",
    "비교/관계연산자는 <, >, <=, >=, ==(같다), !=(다르다) 6개가 있다.     \n",
    "\n",
    "** 수학에서 왼쪽과 오른쪽의 계산 결과가 같음(동치)을 나타내는 기호 =(equal sign) 1개는   \n",
    "프로그래밍언어에서는 전혀 다른 의미로 사용된다.   \n",
    "  \n",
    "a = 1 와 같은 표현은 a와 1의 값이 같다는 의미가 아니라  \n",
    "오른쪽의 계산 결과값인 1을 왼쪽의 변수 a에 저장하라는 의미이다.   "
   ]
  },
  {
   "cell_type": "code",
   "execution_count": 18,
   "id": "0f32d91f",
   "metadata": {},
   "outputs": [
    {
     "name": "stdout",
     "output_type": "stream",
     "text": [
      "0 0\n",
      "True\n"
     ]
    }
   ],
   "source": [
    "a, b = map(int, input().split())\n",
    "print(True if a == b else False)"
   ]
  },
  {
   "cell_type": "markdown",
   "id": "8529b278",
   "metadata": {},
   "source": [
    "### 6050 : [기초-비교연산] 정수 2개 입력받아 비교하기3(설명)(py)\n",
    "\n",
    "본 문제는 python 의 빠른 기초 학습을 위해 설계된 문제로서 python 코드 제출을 기준으로 설명되어 있습니다. \n",
    "- - - - - -\n",
    "\n",
    "두 정수(a, b)를 입력받아  \n",
    "b의 값이 a의 값 보다 크거나 같으면 True 를, 같지 않으면 False 를 출력하는 프로그램을 작성해보자.   \n",
    "\n",
    "참고  \n",
    "어떤 값을 비교하기 위해 비교/관계(comparison/relational) 연산자(operator)를 사용할 수 있다.   \n",
    "\n",
    "비교/관계연산자 <= 는  \n",
    "오른쪽의 계산 결과값이 왼쪽의 계산 결과값보다 크거나 같은 경우 True(참)로 계산하고,  \n",
    "그 외의 경우에는 False(거짓)로 계산한다.  \n",
    "\n",
    "<=, >= 연산자는 같음(==)을 포함한다. 따라서 “작다/크다” 거나 \"같다”는 의미를 가진다.   \n",
    "작다(<)/크다(>)/다르다(!) 기호는 등호(=)와 함께 왼쪽에 붙여써야 한다.   \n",
    "\n",
    "비교/관계연산자도 일반적인 사칙연산자처럼 주어진 두 수를 이용해 계산을 수행하고,  \n",
    "그 결과를 True(참), 또는 False(거짓)로 계산해주는 연산자이다.  \n",
    "비교/관계연산자는 <, >, <=, >=, ==(같다), !=(다르다) 6개가 있다.   "
   ]
  },
  {
   "cell_type": "code",
   "execution_count": 19,
   "id": "3a13b0ae",
   "metadata": {},
   "outputs": [
    {
     "name": "stdout",
     "output_type": "stream",
     "text": [
      "0 -1\n",
      "False\n"
     ]
    }
   ],
   "source": [
    "a, b = map(int, input().split())\n",
    "print(True if b >= a else False)"
   ]
  },
  {
   "cell_type": "code",
   "execution_count": null,
   "id": "16e1245a",
   "metadata": {},
   "outputs": [],
   "source": []
  }
 ],
 "metadata": {
  "kernelspec": {
   "display_name": "Python 3 (ipykernel)",
   "language": "python",
   "name": "python3"
  },
  "language_info": {
   "codemirror_mode": {
    "name": "ipython",
    "version": 3
   },
   "file_extension": ".py",
   "mimetype": "text/x-python",
   "name": "python",
   "nbconvert_exporter": "python",
   "pygments_lexer": "ipython3",
   "version": "3.9.12"
  }
 },
 "nbformat": 4,
 "nbformat_minor": 5
}
